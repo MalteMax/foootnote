{
 "cells": [
  {
   "cell_type": "code",
   "execution_count": 1,
   "id": "58016411",
   "metadata": {},
   "outputs": [],
   "source": [
    "import wrds, os\n",
    "import numpy as np\n",
    "import pandas as pd"
   ]
  },
  {
   "cell_type": "code",
   "execution_count": 2,
   "id": "66355123",
   "metadata": {},
   "outputs": [],
   "source": [
    "os.chdir('..')"
   ]
  },
  {
   "cell_type": "markdown",
   "id": "0bec8dd3",
   "metadata": {},
   "source": [
    "---"
   ]
  },
  {
   "cell_type": "code",
   "execution_count": 3,
   "id": "75d59cab",
   "metadata": {
    "scrolled": true
   },
   "outputs": [
    {
     "name": "stdout",
     "output_type": "stream",
     "text": [
      "Enter your WRDS username [maltemax]:mmx900\n",
      "Enter your password:········\n",
      "WRDS recommends setting up a .pgpass file.\n",
      "Create .pgpass file now [y/n]?: n\n",
      "You can create this file yourself at any time with the create_pgpass_file() function.\n",
      "Loading library list...\n",
      "Done\n"
     ]
    }
   ],
   "source": [
    "db = wrds.Connection()"
   ]
  },
  {
   "cell_type": "code",
   "execution_count": 4,
   "id": "99e4e8a3",
   "metadata": {},
   "outputs": [],
   "source": [
    "df = db.get_table(library = 'crsp', table = 'comphist')"
   ]
  },
  {
   "cell_type": "code",
   "execution_count": 5,
   "id": "81f46803",
   "metadata": {},
   "outputs": [],
   "source": [
    "df = df[['gvkey', 'hchgdt', 'hchgenddt', 'hfic', 'hsic', 'hcik']]"
   ]
  },
  {
   "cell_type": "code",
   "execution_count": 6,
   "id": "76474055",
   "metadata": {},
   "outputs": [
    {
     "data": {
      "text/html": [
       "<div>\n",
       "<style scoped>\n",
       "    .dataframe tbody tr th:only-of-type {\n",
       "        vertical-align: middle;\n",
       "    }\n",
       "\n",
       "    .dataframe tbody tr th {\n",
       "        vertical-align: top;\n",
       "    }\n",
       "\n",
       "    .dataframe thead th {\n",
       "        text-align: right;\n",
       "    }\n",
       "</style>\n",
       "<table border=\"1\" class=\"dataframe\">\n",
       "  <thead>\n",
       "    <tr style=\"text-align: right;\">\n",
       "      <th></th>\n",
       "      <th>gvkey</th>\n",
       "      <th>hchgdt</th>\n",
       "      <th>hchgenddt</th>\n",
       "      <th>hfic</th>\n",
       "      <th>hsic</th>\n",
       "      <th>hcik</th>\n",
       "    </tr>\n",
       "  </thead>\n",
       "  <tbody>\n",
       "    <tr>\n",
       "      <th>0</th>\n",
       "      <td>001000</td>\n",
       "      <td>2007-04-14</td>\n",
       "      <td>2023-08-11</td>\n",
       "      <td>USA</td>\n",
       "      <td>3089.0</td>\n",
       "      <td>None</td>\n",
       "    </tr>\n",
       "    <tr>\n",
       "      <th>1</th>\n",
       "      <td>001000</td>\n",
       "      <td>2023-08-12</td>\n",
       "      <td>None</td>\n",
       "      <td>USA</td>\n",
       "      <td>3089.0</td>\n",
       "      <td>None</td>\n",
       "    </tr>\n",
       "    <tr>\n",
       "      <th>2</th>\n",
       "      <td>001001</td>\n",
       "      <td>2007-04-14</td>\n",
       "      <td>2011-02-11</td>\n",
       "      <td>USA</td>\n",
       "      <td>5812.0</td>\n",
       "      <td>None</td>\n",
       "    </tr>\n",
       "    <tr>\n",
       "      <th>3</th>\n",
       "      <td>001001</td>\n",
       "      <td>2011-02-12</td>\n",
       "      <td>2012-03-09</td>\n",
       "      <td>USA</td>\n",
       "      <td>5812.0</td>\n",
       "      <td>0000723576</td>\n",
       "    </tr>\n",
       "    <tr>\n",
       "      <th>4</th>\n",
       "      <td>001001</td>\n",
       "      <td>2012-03-10</td>\n",
       "      <td>None</td>\n",
       "      <td>USA</td>\n",
       "      <td>5812.0</td>\n",
       "      <td>0000723576</td>\n",
       "    </tr>\n",
       "  </tbody>\n",
       "</table>\n",
       "</div>"
      ],
      "text/plain": [
       "    gvkey      hchgdt   hchgenddt hfic    hsic        hcik\n",
       "0  001000  2007-04-14  2023-08-11  USA  3089.0        None\n",
       "1  001000  2023-08-12        None  USA  3089.0        None\n",
       "2  001001  2007-04-14  2011-02-11  USA  5812.0        None\n",
       "3  001001  2011-02-12  2012-03-09  USA  5812.0  0000723576\n",
       "4  001001  2012-03-10        None  USA  5812.0  0000723576"
      ]
     },
     "execution_count": 6,
     "metadata": {},
     "output_type": "execute_result"
    }
   ],
   "source": [
    "df.head()"
   ]
  },
  {
   "cell_type": "code",
   "execution_count": 8,
   "id": "1b931fb3",
   "metadata": {},
   "outputs": [
    {
     "data": {
      "text/html": [
       "<div>\n",
       "<style scoped>\n",
       "    .dataframe tbody tr th:only-of-type {\n",
       "        vertical-align: middle;\n",
       "    }\n",
       "\n",
       "    .dataframe tbody tr th {\n",
       "        vertical-align: top;\n",
       "    }\n",
       "\n",
       "    .dataframe thead th {\n",
       "        text-align: right;\n",
       "    }\n",
       "</style>\n",
       "<table border=\"1\" class=\"dataframe\">\n",
       "  <thead>\n",
       "    <tr style=\"text-align: right;\">\n",
       "      <th></th>\n",
       "      <th>gvkey</th>\n",
       "      <th>hchgdt</th>\n",
       "      <th>hchgenddt</th>\n",
       "      <th>hfic</th>\n",
       "      <th>hsic</th>\n",
       "      <th>hcik</th>\n",
       "    </tr>\n",
       "  </thead>\n",
       "  <tbody>\n",
       "    <tr>\n",
       "      <th>18</th>\n",
       "      <td>001004</td>\n",
       "      <td>2007-04-14</td>\n",
       "      <td>2007-09-07</td>\n",
       "      <td>USA</td>\n",
       "      <td>5080.0</td>\n",
       "      <td>0000001750</td>\n",
       "    </tr>\n",
       "    <tr>\n",
       "      <th>21</th>\n",
       "      <td>001004</td>\n",
       "      <td>2007-09-08</td>\n",
       "      <td>2008-08-08</td>\n",
       "      <td>USA</td>\n",
       "      <td>5080.0</td>\n",
       "      <td>0000001750</td>\n",
       "    </tr>\n",
       "    <tr>\n",
       "      <th>22</th>\n",
       "      <td>001004</td>\n",
       "      <td>2008-08-09</td>\n",
       "      <td>2009-07-31</td>\n",
       "      <td>USA</td>\n",
       "      <td>5080.0</td>\n",
       "      <td>0000001750</td>\n",
       "    </tr>\n",
       "    <tr>\n",
       "      <th>23</th>\n",
       "      <td>001004</td>\n",
       "      <td>2009-08-01</td>\n",
       "      <td>2010-06-11</td>\n",
       "      <td>USA</td>\n",
       "      <td>5080.0</td>\n",
       "      <td>0000001750</td>\n",
       "    </tr>\n",
       "    <tr>\n",
       "      <th>24</th>\n",
       "      <td>001004</td>\n",
       "      <td>2010-06-12</td>\n",
       "      <td>2010-08-13</td>\n",
       "      <td>USA</td>\n",
       "      <td>5080.0</td>\n",
       "      <td>0000001750</td>\n",
       "    </tr>\n",
       "    <tr>\n",
       "      <th>25</th>\n",
       "      <td>001004</td>\n",
       "      <td>2010-08-14</td>\n",
       "      <td>2011-10-07</td>\n",
       "      <td>USA</td>\n",
       "      <td>5080.0</td>\n",
       "      <td>0000001750</td>\n",
       "    </tr>\n",
       "    <tr>\n",
       "      <th>26</th>\n",
       "      <td>001004</td>\n",
       "      <td>2011-10-08</td>\n",
       "      <td>2012-08-10</td>\n",
       "      <td>USA</td>\n",
       "      <td>5080.0</td>\n",
       "      <td>0000001750</td>\n",
       "    </tr>\n",
       "    <tr>\n",
       "      <th>27</th>\n",
       "      <td>001004</td>\n",
       "      <td>2012-08-11</td>\n",
       "      <td>2013-08-09</td>\n",
       "      <td>USA</td>\n",
       "      <td>5080.0</td>\n",
       "      <td>0000001750</td>\n",
       "    </tr>\n",
       "    <tr>\n",
       "      <th>28</th>\n",
       "      <td>001004</td>\n",
       "      <td>2013-08-10</td>\n",
       "      <td>2014-08-08</td>\n",
       "      <td>USA</td>\n",
       "      <td>5080.0</td>\n",
       "      <td>0000001750</td>\n",
       "    </tr>\n",
       "    <tr>\n",
       "      <th>29</th>\n",
       "      <td>001004</td>\n",
       "      <td>2014-08-09</td>\n",
       "      <td>2015-08-07</td>\n",
       "      <td>USA</td>\n",
       "      <td>5080.0</td>\n",
       "      <td>0000001750</td>\n",
       "    </tr>\n",
       "    <tr>\n",
       "      <th>30</th>\n",
       "      <td>001004</td>\n",
       "      <td>2015-08-08</td>\n",
       "      <td>2017-08-11</td>\n",
       "      <td>USA</td>\n",
       "      <td>5080.0</td>\n",
       "      <td>0000001750</td>\n",
       "    </tr>\n",
       "    <tr>\n",
       "      <th>31</th>\n",
       "      <td>001004</td>\n",
       "      <td>2017-08-12</td>\n",
       "      <td>2018-01-12</td>\n",
       "      <td>USA</td>\n",
       "      <td>5080.0</td>\n",
       "      <td>0000001750</td>\n",
       "    </tr>\n",
       "    <tr>\n",
       "      <th>32</th>\n",
       "      <td>001004</td>\n",
       "      <td>2018-01-13</td>\n",
       "      <td>2018-08-10</td>\n",
       "      <td>USA</td>\n",
       "      <td>5080.0</td>\n",
       "      <td>0000001750</td>\n",
       "    </tr>\n",
       "    <tr>\n",
       "      <th>33</th>\n",
       "      <td>001004</td>\n",
       "      <td>2018-08-11</td>\n",
       "      <td>2020-08-07</td>\n",
       "      <td>USA</td>\n",
       "      <td>5080.0</td>\n",
       "      <td>0000001750</td>\n",
       "    </tr>\n",
       "    <tr>\n",
       "      <th>34</th>\n",
       "      <td>001004</td>\n",
       "      <td>2020-08-08</td>\n",
       "      <td>2021-08-13</td>\n",
       "      <td>USA</td>\n",
       "      <td>5080.0</td>\n",
       "      <td>0000001750</td>\n",
       "    </tr>\n",
       "    <tr>\n",
       "      <th>35</th>\n",
       "      <td>001004</td>\n",
       "      <td>2021-08-14</td>\n",
       "      <td>2023-08-11</td>\n",
       "      <td>USA</td>\n",
       "      <td>5080.0</td>\n",
       "      <td>0000001750</td>\n",
       "    </tr>\n",
       "    <tr>\n",
       "      <th>36</th>\n",
       "      <td>001004</td>\n",
       "      <td>2023-08-12</td>\n",
       "      <td>2023-10-13</td>\n",
       "      <td>USA</td>\n",
       "      <td>5080.0</td>\n",
       "      <td>0000001750</td>\n",
       "    </tr>\n",
       "    <tr>\n",
       "      <th>37</th>\n",
       "      <td>001004</td>\n",
       "      <td>2023-10-14</td>\n",
       "      <td>None</td>\n",
       "      <td>USA</td>\n",
       "      <td>5080.0</td>\n",
       "      <td>0000001750</td>\n",
       "    </tr>\n",
       "  </tbody>\n",
       "</table>\n",
       "</div>"
      ],
      "text/plain": [
       "     gvkey      hchgdt   hchgenddt hfic    hsic        hcik\n",
       "18  001004  2007-04-14  2007-09-07  USA  5080.0  0000001750\n",
       "21  001004  2007-09-08  2008-08-08  USA  5080.0  0000001750\n",
       "22  001004  2008-08-09  2009-07-31  USA  5080.0  0000001750\n",
       "23  001004  2009-08-01  2010-06-11  USA  5080.0  0000001750\n",
       "24  001004  2010-06-12  2010-08-13  USA  5080.0  0000001750\n",
       "25  001004  2010-08-14  2011-10-07  USA  5080.0  0000001750\n",
       "26  001004  2011-10-08  2012-08-10  USA  5080.0  0000001750\n",
       "27  001004  2012-08-11  2013-08-09  USA  5080.0  0000001750\n",
       "28  001004  2013-08-10  2014-08-08  USA  5080.0  0000001750\n",
       "29  001004  2014-08-09  2015-08-07  USA  5080.0  0000001750\n",
       "30  001004  2015-08-08  2017-08-11  USA  5080.0  0000001750\n",
       "31  001004  2017-08-12  2018-01-12  USA  5080.0  0000001750\n",
       "32  001004  2018-01-13  2018-08-10  USA  5080.0  0000001750\n",
       "33  001004  2018-08-11  2020-08-07  USA  5080.0  0000001750\n",
       "34  001004  2020-08-08  2021-08-13  USA  5080.0  0000001750\n",
       "35  001004  2021-08-14  2023-08-11  USA  5080.0  0000001750\n",
       "36  001004  2023-08-12  2023-10-13  USA  5080.0  0000001750\n",
       "37  001004  2023-10-14        None  USA  5080.0  0000001750"
      ]
     },
     "execution_count": 8,
     "metadata": {},
     "output_type": "execute_result"
    }
   ],
   "source": [
    "df.loc[df['hcik'] == '0000001750']"
   ]
  },
  {
   "cell_type": "code",
   "execution_count": 7,
   "id": "47c81e16",
   "metadata": {},
   "outputs": [],
   "source": [
    "df['date_from'], df['date_to'] = pd.to_datetime(df['hchgdt']), pd.to_datetime(df['hchgenddt'])\n",
    "\n",
    "df['fyear_from'] = np.where(df['date_from'].dt.month < 6,\n",
    "                            df['date_from'].dt.year,\n",
    "                            df['date_from'].dt.year + 1)\n",
    "\n",
    "df['fyear_to'] = np.where(df['date_to'].dt.month < 6,\n",
    "                          df['date_to'].dt.year - 1,\n",
    "                          df['date_to'].dt.year)"
   ]
  },
  {
   "cell_type": "code",
   "execution_count": 8,
   "id": "6c43bcfe",
   "metadata": {},
   "outputs": [],
   "source": [
    "df = df.loc[~(df['fyear_from'] > df['fyear_to'])].reset_index(drop = True)"
   ]
  },
  {
   "cell_type": "code",
   "execution_count": 9,
   "id": "7607cf57",
   "metadata": {},
   "outputs": [],
   "source": [
    "df['fyear_to'] = df['fyear_to'].fillna(2024)"
   ]
  },
  {
   "cell_type": "code",
   "execution_count": 10,
   "id": "e2b9c00e",
   "metadata": {},
   "outputs": [],
   "source": [
    "df = df.drop(columns = ['hchgdt', 'hchgenddt', 'date_from', 'date_to'])"
   ]
  },
  {
   "cell_type": "code",
   "execution_count": 11,
   "id": "6bebe689",
   "metadata": {},
   "outputs": [],
   "source": [
    "between = df.to_dict(orient = 'index')"
   ]
  },
  {
   "cell_type": "code",
   "execution_count": 12,
   "id": "dbac5a40",
   "metadata": {},
   "outputs": [],
   "source": [
    "in_between = []\n",
    "\n",
    "for k, v in between.items():\n",
    "    in_between.append([i for i in range(int(v['fyear_from']), int(v['fyear_to']) + 1)])"
   ]
  },
  {
   "cell_type": "code",
   "execution_count": 13,
   "id": "057163eb",
   "metadata": {},
   "outputs": [],
   "source": [
    "df['fyear'] = pd.Series(in_between)"
   ]
  },
  {
   "cell_type": "code",
   "execution_count": 14,
   "id": "0d320fde",
   "metadata": {},
   "outputs": [],
   "source": [
    "df = df.explode('fyear')"
   ]
  },
  {
   "cell_type": "code",
   "execution_count": 15,
   "id": "48a153cf",
   "metadata": {},
   "outputs": [],
   "source": [
    "df = df.drop(columns = ['fyear_from', 'fyear_to'])"
   ]
  },
  {
   "cell_type": "code",
   "execution_count": 17,
   "id": "719df3e5",
   "metadata": {},
   "outputs": [],
   "source": [
    "df.to_csv(os.path.join(os.getcwd(), '3_pipeline', '1_intermediate', 'comphist_prepared.tsv'),\n",
    "          sep = '\\t', index = False)"
   ]
  }
 ],
 "metadata": {
  "kernelspec": {
   "display_name": "Python 3 (ipykernel)",
   "language": "python",
   "name": "python3"
  },
  "language_info": {
   "codemirror_mode": {
    "name": "ipython",
    "version": 3
   },
   "file_extension": ".py",
   "mimetype": "text/x-python",
   "name": "python",
   "nbconvert_exporter": "python",
   "pygments_lexer": "ipython3",
   "version": "3.11.5"
  }
 },
 "nbformat": 4,
 "nbformat_minor": 5
}
