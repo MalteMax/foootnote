{
 "cells": [
  {
   "cell_type": "code",
   "execution_count": 1,
   "id": "58016411",
   "metadata": {},
   "outputs": [],
   "source": [
    "import wrds, os\n",
    "import numpy as np\n",
    "import pandas as pd"
   ]
  },
  {
   "cell_type": "code",
   "execution_count": 2,
   "id": "66355123",
   "metadata": {},
   "outputs": [],
   "source": [
    "os.chdir('..')"
   ]
  },
  {
   "cell_type": "markdown",
   "id": "0bec8dd3",
   "metadata": {},
   "source": [
    "---"
   ]
  },
  {
   "cell_type": "code",
   "execution_count": 3,
   "id": "75d59cab",
   "metadata": {
    "scrolled": true
   },
   "outputs": [
    {
     "name": "stdout",
     "output_type": "stream",
     "text": [
      "Enter your WRDS username [maltemax]:mmx900\n",
      "Enter your password:········\n",
      "WRDS recommends setting up a .pgpass file.\n",
      "Create .pgpass file now [y/n]?: \n",
      "Create .pgpass file now [y/n]?: n\n",
      "You can create this file yourself at any time with the create_pgpass_file() function.\n",
      "Loading library list...\n",
      "Done\n"
     ]
    }
   ],
   "source": [
    "db = wrds.Connection()"
   ]
  },
  {
   "cell_type": "code",
   "execution_count": 4,
   "id": "99e4e8a3",
   "metadata": {},
   "outputs": [],
   "source": [
    "df = db.get_table(library = 'crsp', table = 'comphist')"
   ]
  },
  {
   "cell_type": "code",
   "execution_count": 5,
   "id": "81f46803",
   "metadata": {},
   "outputs": [],
   "source": [
    "df = df[['gvkey', 'hchgdt', 'hchgenddt', 'hfic', 'hsic', 'hcik']]"
   ]
  },
  {
   "cell_type": "code",
   "execution_count": 8,
   "id": "47c81e16",
   "metadata": {},
   "outputs": [],
   "source": [
    "df['date_from'], df['date_to'] = pd.to_datetime(df['hchgdt']), pd.to_datetime(df['hchgenddt'])\n",
    "\n",
    "df['fyear_from'] = np.where(df['date_from'].dt.month < 6,\n",
    "                            df['date_from'].dt.year,\n",
    "                            df['date_from'].dt.year + 1)\n",
    "\n",
    "df['fyear_to'] = np.where(df['date_to'].dt.month < 6,\n",
    "                          df['date_to'].dt.year - 1,\n",
    "                          df['date_to'].dt.year)"
   ]
  },
  {
   "cell_type": "code",
   "execution_count": 9,
   "id": "6c43bcfe",
   "metadata": {},
   "outputs": [],
   "source": [
    "df = df.loc[~(df['fyear_from'] > df['fyear_to'])].reset_index(drop = True)"
   ]
  },
  {
   "cell_type": "code",
   "execution_count": 10,
   "id": "7607cf57",
   "metadata": {},
   "outputs": [],
   "source": [
    "df['fyear_to'] = df['fyear_to'].fillna(2024)"
   ]
  },
  {
   "cell_type": "code",
   "execution_count": 11,
   "id": "e2b9c00e",
   "metadata": {},
   "outputs": [],
   "source": [
    "df = df.drop(columns = ['hchgdt', 'hchgenddt', 'date_from', 'date_to'])"
   ]
  },
  {
   "cell_type": "code",
   "execution_count": 12,
   "id": "6bebe689",
   "metadata": {},
   "outputs": [],
   "source": [
    "between = df.to_dict(orient = 'index')"
   ]
  },
  {
   "cell_type": "code",
   "execution_count": 13,
   "id": "dbac5a40",
   "metadata": {},
   "outputs": [],
   "source": [
    "in_between = []\n",
    "\n",
    "for k, v in between.items():\n",
    "    in_between.append([i for i in range(int(v['fyear_from']), int(v['fyear_to']) + 1)])"
   ]
  },
  {
   "cell_type": "code",
   "execution_count": 14,
   "id": "057163eb",
   "metadata": {},
   "outputs": [],
   "source": [
    "df['fyear'] = pd.Series(in_between)"
   ]
  },
  {
   "cell_type": "code",
   "execution_count": 15,
   "id": "0d320fde",
   "metadata": {},
   "outputs": [],
   "source": [
    "df = df.explode('fyear')"
   ]
  },
  {
   "cell_type": "code",
   "execution_count": 16,
   "id": "48a153cf",
   "metadata": {},
   "outputs": [],
   "source": [
    "df = df.drop(columns = ['fyear_from', 'fyear_to'])"
   ]
  },
  {
   "cell_type": "code",
   "execution_count": 18,
   "id": "719df3e5",
   "metadata": {},
   "outputs": [],
   "source": [
    "df.to_csv(os.path.join(os.getcwd(), '3_pipeline', '1_intermediate', 'comphist_prepared.tsv'),\n",
    "          sep = '\\t', index = False)"
   ]
  }
 ],
 "metadata": {
  "kernelspec": {
   "display_name": "Python 3 (ipykernel)",
   "language": "python",
   "name": "python3"
  },
  "language_info": {
   "codemirror_mode": {
    "name": "ipython",
    "version": 3
   },
   "file_extension": ".py",
   "mimetype": "text/x-python",
   "name": "python",
   "nbconvert_exporter": "python",
   "pygments_lexer": "ipython3",
   "version": "3.11.5"
  }
 },
 "nbformat": 4,
 "nbformat_minor": 5
}
