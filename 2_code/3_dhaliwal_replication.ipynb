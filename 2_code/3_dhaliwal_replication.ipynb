{
 "cells": [
  {
   "cell_type": "code",
   "execution_count": 1,
   "id": "0c783ecd",
   "metadata": {},
   "outputs": [],
   "source": [
    "import os, re\n",
    "import numpy as np\n",
    "import pandas as pd\n",
    "from tqdm.notebook import tqdm_notebook as tqdm\n",
    "import matplotlib.pyplot as plt"
   ]
  },
  {
   "cell_type": "code",
   "execution_count": 2,
   "id": "1e7088f3",
   "metadata": {},
   "outputs": [],
   "source": [
    "os.chdir('..')"
   ]
  },
  {
   "cell_type": "markdown",
   "id": "3e9d1be3",
   "metadata": {},
   "source": [
    "---"
   ]
  },
  {
   "cell_type": "code",
   "execution_count": 3,
   "id": "62ba2f1a",
   "metadata": {},
   "outputs": [],
   "source": [
    "df = pd.read_csv(os.path.join(os.getcwd(), '3_pipeline', '1_intermediate', 'sample_raw.tsv'),\n",
    "                 sep = '\\t')"
   ]
  },
  {
   "cell_type": "code",
   "execution_count": 1444,
   "id": "e4e62d64",
   "metadata": {},
   "outputs": [],
   "source": [
    "df = df.sort_values(by = ['gvkey', 'fyear'])"
   ]
  },
  {
   "cell_type": "markdown",
   "id": "0dcf5051",
   "metadata": {},
   "source": [
    "replacing missings by zero"
   ]
  },
  {
   "cell_type": "code",
   "execution_count": 1445,
   "id": "0e9feef3",
   "metadata": {},
   "outputs": [],
   "source": [
    "df[['spi', 'xrd', 'glp', 'sppiv']] = df[['spi', 'xrd', 'glp', 'sppiv']].fillna(0)"
   ]
  },
  {
   "cell_type": "code",
   "execution_count": 1446,
   "id": "8adf498c",
   "metadata": {},
   "outputs": [],
   "source": [
    "# dhaliwal state \"We define a loss firm as a firm that reports negative income before extraordinary items\n",
    "# (Compustat data item IB) and\n",
    "# does not report positive U.S. pretax income (Compustat data item PIDOM)\"\n",
    "\n",
    "# the PIDOM part suggests that they don't use pidom < 0, and leaves unclear\n",
    "# whether missings on PIDOM are replaced by zero\n",
    "# if I don't do that, lose many observations\n",
    "df['pidom'] = df['pidom'].fillna(0)"
   ]
  },
  {
   "cell_type": "markdown",
   "id": "4cae67d4",
   "metadata": {},
   "source": [
    "create variables that need full Compustat series"
   ]
  },
  {
   "cell_type": "code",
   "execution_count": 1447,
   "id": "03601bc6",
   "metadata": {},
   "outputs": [],
   "source": [
    "# first create variable to check whether years are consecutive\n",
    "df['L1_fyear'] = df.groupby('gvkey')['fyear'].shift(1)\n",
    "df['is_year_cons'] = np.where((df['fyear'] - df['L1_fyear']) == 1, 1, 0)"
   ]
  },
  {
   "cell_type": "code",
   "execution_count": 1448,
   "id": "464925df",
   "metadata": {},
   "outputs": [],
   "source": [
    "for var in ['at', 'dvc', 'va', 'ib', 'dta_gross', 'sale']:\n",
    "    df[f'L1_{var}'] = df.groupby('gvkey')[var].shift(1)\n",
    "    df[f'L1_{var}'] = np.where(df['is_year_cons'] == 1, df[f'L1_{var}'], np.nan)"
   ]
  },
  {
   "cell_type": "code",
   "execution_count": 1449,
   "id": "c078b7b2",
   "metadata": {},
   "outputs": [],
   "source": [
    "# p. 139: \"we scale accounting variables by beginning total assets and winsorize\n",
    "# small values of beginning total assets to $10 million\n",
    "# in order to mitigate scaling issues associated with extremely small firms\"\n",
    "df['L1_at'] = np.where(df['L1_at'] < 10, 10, df['L1_at'])"
   ]
  },
  {
   "cell_type": "code",
   "execution_count": 1450,
   "id": "96b786bf",
   "metadata": {},
   "outputs": [],
   "source": [
    "# earnings and lagged earnings\n",
    "df['earnings'] = df['ib'] / df['L1_at']\n",
    "df['L1_earnings'] = df.groupby('gvkey')['earnings'].shift(1)\n",
    "df['L1_earnings'] = np.where(df['is_year_cons'] == 0, np.nan, df['L1_earnings'])"
   ]
  },
  {
   "cell_type": "code",
   "execution_count": 1451,
   "id": "8d7834f6",
   "metadata": {},
   "outputs": [],
   "source": [
    "# age\n",
    "df['age'] = df['fyear'] - df.groupby('gvkey')['fyear'].transform('min')"
   ]
  },
  {
   "cell_type": "code",
   "execution_count": 1452,
   "id": "72e5ed48",
   "metadata": {
    "scrolled": true
   },
   "outputs": [],
   "source": [
    "# # loss sequence (for LOSSEQ variable)\n",
    "# for i, r in df.iterrows()"
   ]
  },
  {
   "cell_type": "markdown",
   "id": "85e25344",
   "metadata": {},
   "source": [
    "sample selection"
   ]
  },
  {
   "cell_type": "code",
   "execution_count": 1453,
   "id": "3c765a38",
   "metadata": {},
   "outputs": [],
   "source": [
    "df = df.loc[df['fyear'].isin([y for y in range(2012, 2023 + 1)])]"
   ]
  },
  {
   "cell_type": "code",
   "execution_count": 1454,
   "id": "89398e8b",
   "metadata": {},
   "outputs": [],
   "source": [
    "df = df.loc[df['hfic'] == 'USA']"
   ]
  },
  {
   "cell_type": "code",
   "execution_count": 1455,
   "id": "1cbcfc3f",
   "metadata": {},
   "outputs": [],
   "source": [
    "df['sic_group'] = df['hsic'].astype(int).astype(str).str.zfill(4).str[:2].astype(int)"
   ]
  },
  {
   "cell_type": "code",
   "execution_count": 1456,
   "id": "bf09e0a4",
   "metadata": {},
   "outputs": [],
   "source": [
    "sic_exclude = [49, 60, 61, 62, 63, 64, 65, 66, 67, 68, 69]\n",
    "df = df.loc[~df['sic_group'].isin(sic_exclude)]"
   ]
  },
  {
   "cell_type": "code",
   "execution_count": 1457,
   "id": "dad66cf5",
   "metadata": {},
   "outputs": [],
   "source": [
    "df = df.loc[df['ceq'] >= 0]"
   ]
  },
  {
   "cell_type": "code",
   "execution_count": 1458,
   "id": "5c275feb",
   "metadata": {},
   "outputs": [],
   "source": [
    "# drop if variables for initial analysis are missing\n",
    "df = df.loc[df[['txdfed', 'txfed', 'va', 'L1_va', 'dta_gross']].notna().all(axis = 1)]"
   ]
  },
  {
   "cell_type": "code",
   "execution_count": 1459,
   "id": "8c2122d5",
   "metadata": {},
   "outputs": [],
   "source": [
    "# dropping the variables below is for the full Dhaliwal analysis;\n",
    "# for now, I only drop if the variables necessary to compare the\n",
    "# Dhaliwal classification with actual VA data is missing\n",
    "\n",
    "# df = df.loc[df[['txfed', 'txdfed', 'ib', 'pidom', 'oancf', 'xidoc',\n",
    "#                 'spi', 'nopi', 'glp', 'L1_at', 'sppiv', 'sale',\n",
    "#                 'xrd', 'prcc_f', 'csho', 'dvc', 'L1_dvc']].notna().all(axis = 1)]"
   ]
  },
  {
   "cell_type": "code",
   "execution_count": 1460,
   "id": "7da22eeb",
   "metadata": {},
   "outputs": [],
   "source": [
    "df['loss'] = np.where((df['ib'] < 0) & (df['pidom'] <= 0), 1, 0)"
   ]
  },
  {
   "cell_type": "markdown",
   "id": "52658f50",
   "metadata": {},
   "source": [
    "variables"
   ]
  },
  {
   "cell_type": "code",
   "execution_count": 1461,
   "id": "56cb31da",
   "metadata": {},
   "outputs": [],
   "source": [
    "df['bn'] = np.where(df['txdfed'] >= 0, 1, 0)"
   ]
  },
  {
   "cell_type": "code",
   "execution_count": 1462,
   "id": "a1b56af6",
   "metadata": {},
   "outputs": [],
   "source": [
    "df['gn_va'] = np.where((df['txfed'] <= 0) & (df['txdfed'] < 0), 1, 0)"
   ]
  },
  {
   "cell_type": "code",
   "execution_count": 1463,
   "id": "936c4d6f",
   "metadata": {},
   "outputs": [],
   "source": [
    "df['gn_ti'] = np.where((df['txfed'] > 0) & (df['txdfed'] < 0), 1, 0)"
   ]
  },
  {
   "cell_type": "code",
   "execution_count": 1464,
   "id": "0b3e9dab",
   "metadata": {},
   "outputs": [],
   "source": [
    "df['taxcatg'] = np.where(df['bn'] == 1, 0, np.where(df['gn_va'] == 1, 1, 2))"
   ]
  },
  {
   "cell_type": "code",
   "execution_count": 1492,
   "id": "a7d03632",
   "metadata": {},
   "outputs": [
    {
     "data": {
      "text/plain": [
       "taxcatg\n",
       "2    3883\n",
       "Name: count, dtype: int64"
      ]
     },
     "execution_count": 1492,
     "metadata": {},
     "output_type": "execute_result"
    }
   ],
   "source": [
    "df.loc[df['gn_ti'] == 1, 'taxcatg'].value_counts()"
   ]
  },
  {
   "cell_type": "code",
   "execution_count": 1465,
   "id": "a3bd93c2",
   "metadata": {},
   "outputs": [],
   "source": [
    "# df['current_tax'] = np.where(df['txfed'] == 0, 'zero', np.where(df['txfed'] > 0, 'positive', 'negative'))"
   ]
  },
  {
   "cell_type": "code",
   "execution_count": 1466,
   "id": "0e8142d2",
   "metadata": {},
   "outputs": [],
   "source": [
    "# df['deferred_tax'] = np.where(df['txdfed'] == 0, 'zero', np.where(df['txdfed'] > 0, 'positive', 'negative'))"
   ]
  },
  {
   "cell_type": "code",
   "execution_count": 1467,
   "id": "8c99459a",
   "metadata": {},
   "outputs": [],
   "source": [
    "# # rank-transform earnings and lagged earnings\n",
    "# df['earnings'] = df['earnings'].rank()\n",
    "# df['L1_earnings'] = df['L1_earnings'].rank()"
   ]
  },
  {
   "cell_type": "code",
   "execution_count": 1468,
   "id": "28f7d656",
   "metadata": {},
   "outputs": [],
   "source": [
    "# # cashflow\n",
    "# df['cashflow'] = (df['oancf'] - df['xidoc']) / df['L1_at']\n",
    "# df['cashflow'] = np.where(df['cashflow'] >= df.groupby('fyear')['cashflow'].transform('median'),\n",
    "#                           1, 0)"
   ]
  },
  {
   "cell_type": "code",
   "execution_count": 1469,
   "id": "8fd0dc56",
   "metadata": {},
   "outputs": [],
   "source": [
    "# # d_earnings\n",
    "# df = df.loc[df['L1_earnings'].notna()]\n",
    "# df['diff_earnings'] = (df['earnings'] - df['L1_earnings']).abs()\n",
    "# df['d_earnings'] = np.where(df['diff_earnings'] >= df.groupby('fyear')['diff_earnings'].transform('median'),\n",
    "#                              1, 0)\n",
    "# df = df.drop(columns = 'diff_earnings')"
   ]
  },
  {
   "cell_type": "code",
   "execution_count": 1470,
   "id": "74208693",
   "metadata": {},
   "outputs": [],
   "source": [
    "# # negspiw\n",
    "# df['negspiw'] = np.where(df['spi'] < 0, 1, 0)"
   ]
  },
  {
   "cell_type": "code",
   "execution_count": 1471,
   "id": "d61a8ceb",
   "metadata": {},
   "outputs": [],
   "source": [
    "# # negnop\n",
    "# df['negnop'] = np.where(df['nopi'] < 0, 1, 0)"
   ]
  },
  {
   "cell_type": "code",
   "execution_count": 1472,
   "id": "ff841bb6",
   "metadata": {},
   "outputs": [],
   "source": [
    "# # negglis\n",
    "# df['negglis'] = np.where(df['glp'] < 0, 1, 0)"
   ]
  },
  {
   "cell_type": "code",
   "execution_count": 1473,
   "id": "58fbb92f",
   "metadata": {},
   "outputs": [],
   "source": [
    "# # negglcf\n",
    "# df['negglcf'] = np.where(df['sppiv'] > 0, 1, 0)"
   ]
  },
  {
   "cell_type": "code",
   "execution_count": 1474,
   "id": "d3649aee",
   "metadata": {},
   "outputs": [],
   "source": [
    "# # salesgrowth\n",
    "# df['salesgrowth'] = np.where(df['salesgrowth'] >= df.groupby('fyear')['salesgrowth'].transform('median'),\n",
    "#                              1, 0)"
   ]
  },
  {
   "cell_type": "code",
   "execution_count": 1475,
   "id": "afa2098c",
   "metadata": {},
   "outputs": [],
   "source": [
    "# # age\n",
    "# # check: is never == 1?\n",
    "# df['age'] = np.where((df['age'] == 1) | (df['age'] == 2), 1, 0)"
   ]
  },
  {
   "cell_type": "code",
   "execution_count": 1476,
   "id": "713a1803",
   "metadata": {},
   "outputs": [],
   "source": [
    "# # R&D\n",
    "# df['rd'] = np.where(df['xrd'] > 0, 1, 0)"
   ]
  },
  {
   "cell_type": "code",
   "execution_count": 1477,
   "id": "073c8080",
   "metadata": {},
   "outputs": [],
   "source": [
    "# # firstloss\n",
    "# df['firstloss'] = np.where((df['ib'] < 0) & (df['L1_ib'] > 0), 1, 0)"
   ]
  },
  {
   "cell_type": "code",
   "execution_count": 1478,
   "id": "7ebfff1f",
   "metadata": {},
   "outputs": [],
   "source": [
    "# losseq (loss sequence)\n",
    "# to be added..."
   ]
  },
  {
   "cell_type": "code",
   "execution_count": 1479,
   "id": "43c58ae6",
   "metadata": {},
   "outputs": [],
   "source": [
    "# # bigloss\n",
    "# df['bigloss'] = np.where((df['ib'] / df['L1_at']) < - 0.8, 1, 0)"
   ]
  },
  {
   "cell_type": "code",
   "execution_count": 1480,
   "id": "e54ea3cd",
   "metadata": {},
   "outputs": [],
   "source": [
    "# # size\n",
    "# df['mve'] = df['prcc_f'] * df['csho']\n",
    "# df['size'] = np.log(df['mve'])\n",
    "# df['size'] = np.where(df['size'] == -np.inf, np.nan, df['size'])"
   ]
  },
  {
   "cell_type": "code",
   "execution_count": 1481,
   "id": "33c673c8",
   "metadata": {},
   "outputs": [],
   "source": [
    "# # divdum\n",
    "# df['divdum'] = np.where(df['dvc'] > 0, 1, 0)"
   ]
  },
  {
   "cell_type": "code",
   "execution_count": 1482,
   "id": "1d141a1a",
   "metadata": {},
   "outputs": [],
   "source": [
    "# # divstop\n",
    "# df['divstop'] = np.where((df['L1_dvc'] > 0) & (df['dvc'] == 0), 1, 0)"
   ]
  },
  {
   "cell_type": "code",
   "execution_count": 1483,
   "id": "35ba56f2",
   "metadata": {
    "scrolled": true
   },
   "outputs": [],
   "source": [
    "# df = df.drop(columns = ['adsh', 'name', 'period', 'instance', 'url_instance'])"
   ]
  },
  {
   "cell_type": "code",
   "execution_count": null,
   "id": "a777883f",
   "metadata": {},
   "outputs": [],
   "source": []
  },
  {
   "cell_type": "code",
   "execution_count": 1484,
   "id": "1a466933",
   "metadata": {},
   "outputs": [],
   "source": [
    "# # rescale earnings to range [0, 1]\n",
    "# df['earnings'] = (df['earnings'] - df['earnings'].min()) / (df['earnings'].max() - df['earnings'].min())"
   ]
  },
  {
   "cell_type": "code",
   "execution_count": 1487,
   "id": "902bfb44",
   "metadata": {
    "scrolled": true
   },
   "outputs": [],
   "source": [
    "df.to_stata(os.path.join(os.getcwd(), '3_pipeline', '1_intermediate', 'sample_dhaliwal.dta'),\n",
    "            write_index = False)"
   ]
  },
  {
   "cell_type": "markdown",
   "id": "539df687",
   "metadata": {},
   "source": [
    "---"
   ]
  },
  {
   "cell_type": "code",
   "execution_count": 314,
   "id": "28b85728",
   "metadata": {},
   "outputs": [],
   "source": [
    "# restrict to loss observations\n",
    "table1 = df.loc[df['loss'] == 1]"
   ]
  },
  {
   "cell_type": "code",
   "execution_count": 315,
   "id": "c7296843",
   "metadata": {},
   "outputs": [
    {
     "data": {
      "text/plain": [
       "current_tax\n",
       "zero        0.720586\n",
       "negative    0.167200\n",
       "positive    0.112214\n",
       "Name: proportion, dtype: float64"
      ]
     },
     "execution_count": 315,
     "metadata": {},
     "output_type": "execute_result"
    }
   ],
   "source": [
    "table1['current_tax'].value_counts(normalize = True)"
   ]
  },
  {
   "cell_type": "code",
   "execution_count": 316,
   "id": "8ca9ba80",
   "metadata": {},
   "outputs": [
    {
     "data": {
      "text/plain": [
       "deferred_tax\n",
       "zero        0.687238\n",
       "negative    0.208148\n",
       "positive    0.104614\n",
       "Name: proportion, dtype: float64"
      ]
     },
     "execution_count": 316,
     "metadata": {},
     "output_type": "execute_result"
    }
   ],
   "source": [
    "table1['deferred_tax'].value_counts(normalize = True)"
   ]
  }
 ],
 "metadata": {
  "kernelspec": {
   "display_name": "Python 3 (ipykernel)",
   "language": "python",
   "name": "python3"
  },
  "language_info": {
   "codemirror_mode": {
    "name": "ipython",
    "version": 3
   },
   "file_extension": ".py",
   "mimetype": "text/x-python",
   "name": "python",
   "nbconvert_exporter": "python",
   "pygments_lexer": "ipython3",
   "version": "3.11.5"
  }
 },
 "nbformat": 4,
 "nbformat_minor": 5
}
