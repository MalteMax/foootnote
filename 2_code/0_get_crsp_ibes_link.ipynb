{
 "cells": [
  {
   "cell_type": "code",
   "execution_count": 1,
   "id": "58016411",
   "metadata": {},
   "outputs": [],
   "source": [
    "import wrds, os\n",
    "import numpy as np\n",
    "import pandas as pd"
   ]
  },
  {
   "cell_type": "code",
   "execution_count": 2,
   "id": "66355123",
   "metadata": {},
   "outputs": [],
   "source": [
    "os.chdir('..')"
   ]
  },
  {
   "cell_type": "markdown",
   "id": "0bec8dd3",
   "metadata": {},
   "source": [
    "---"
   ]
  },
  {
   "cell_type": "code",
   "execution_count": 3,
   "id": "75d59cab",
   "metadata": {
    "scrolled": true
   },
   "outputs": [
    {
     "name": "stdout",
     "output_type": "stream",
     "text": [
      "Enter your WRDS username [maltemax]:mmax_uva\n",
      "Enter your password:········\n",
      "WRDS recommends setting up a .pgpass file.\n",
      "Create .pgpass file now [y/n]?: n\n",
      "You can create this file yourself at any time with the create_pgpass_file() function.\n",
      "Loading library list...\n",
      "Done\n"
     ]
    }
   ],
   "source": [
    "db = wrds.Connection()"
   ]
  },
  {
   "cell_type": "code",
   "execution_count": 20,
   "id": "99e4e8a3",
   "metadata": {},
   "outputs": [],
   "source": [
    "df = db.get_table(library = 'wrdsapps', table = 'ibcrsphist')"
   ]
  },
  {
   "cell_type": "code",
   "execution_count": 24,
   "id": "dd037eb9",
   "metadata": {},
   "outputs": [],
   "source": [
    "df.to_csv(os.path.join(os.getcwd(), '3_pipeline', '1_intermediate', 'crsp_ibes_link_raw.tsv'),\n",
    "          sep = '\\t', index = False)"
   ]
  },
  {
   "cell_type": "code",
   "execution_count": 46,
   "id": "1947b023",
   "metadata": {},
   "outputs": [],
   "source": [
    "df = pd.read_csv(os.path.join(os.getcwd(), '3_pipeline', '1_intermediate', 'crsp_ibes_link_raw.tsv'),\n",
    "                 sep = '\\t')"
   ]
  },
  {
   "attachments": {},
   "cell_type": "markdown",
   "id": "5bf21aec",
   "metadata": {},
   "source": [
    "scores:\n",
    "1. 8-digit historical CUSIP match\n",
    "2. Historical ticker match + 6-digit CUSIPs and similar company names\n",
    "3. Historical ticker match + plus 6-digit CUSIPs, but different company names\n",
    "4. Historical ticker match + similar company names, but different 6-digit CUSIPs\n",
    "5. Historical ticker match, but both 6-digit CUSIPs and company names are different\n",
    "6. No matching, or a one-to-many match that cannot be resolved\n",
    "\n",
    "\n",
    "also: https://wrds-www.wharton.upenn.edu/pages/wrds-research/applications/python-replications/linking-ibes-and-crsp-data-python/"
   ]
  },
  {
   "cell_type": "code",
   "execution_count": 47,
   "id": "bdbca7ce",
   "metadata": {
    "scrolled": true
   },
   "outputs": [],
   "source": [
    "df = df.loc[df['score'] == 1]"
   ]
  },
  {
   "cell_type": "code",
   "execution_count": 48,
   "id": "47c81e16",
   "metadata": {},
   "outputs": [],
   "source": [
    "df['date_from'], df['date_to'] = pd.to_datetime(df['sdate']), pd.to_datetime(df['edate'])\n",
    "\n",
    "df['fyear_from'] = np.where(df['date_from'].dt.month < 6,\n",
    "                            df['date_from'].dt.year,\n",
    "                            df['date_from'].dt.year + 1)\n",
    "\n",
    "df['fyear_to'] = np.where(df['date_to'].dt.month < 6,\n",
    "                          df['date_to'].dt.year - 1,\n",
    "                          df['date_to'].dt.year)"
   ]
  },
  {
   "cell_type": "code",
   "execution_count": 49,
   "id": "6c43bcfe",
   "metadata": {},
   "outputs": [],
   "source": [
    "df = df.loc[~(df['fyear_from'] > df['fyear_to'])].reset_index(drop = True)"
   ]
  },
  {
   "cell_type": "code",
   "execution_count": 50,
   "id": "7607cf57",
   "metadata": {},
   "outputs": [],
   "source": [
    "df['fyear_to'] = df['fyear_to'].fillna(2024)"
   ]
  },
  {
   "cell_type": "code",
   "execution_count": 53,
   "id": "7eeef68b",
   "metadata": {},
   "outputs": [
    {
     "data": {
      "text/html": [
       "<div>\n",
       "<style scoped>\n",
       "    .dataframe tbody tr th:only-of-type {\n",
       "        vertical-align: middle;\n",
       "    }\n",
       "\n",
       "    .dataframe tbody tr th {\n",
       "        vertical-align: top;\n",
       "    }\n",
       "\n",
       "    .dataframe thead th {\n",
       "        text-align: right;\n",
       "    }\n",
       "</style>\n",
       "<table border=\"1\" class=\"dataframe\">\n",
       "  <thead>\n",
       "    <tr style=\"text-align: right;\">\n",
       "      <th></th>\n",
       "      <th>ticker</th>\n",
       "      <th>permno</th>\n",
       "      <th>fyear_from</th>\n",
       "      <th>fyear_to</th>\n",
       "    </tr>\n",
       "  </thead>\n",
       "  <tbody>\n",
       "    <tr>\n",
       "      <th>0</th>\n",
       "      <td>0000</td>\n",
       "      <td>14471.0</td>\n",
       "      <td>2014</td>\n",
       "      <td>2016</td>\n",
       "    </tr>\n",
       "    <tr>\n",
       "      <th>1</th>\n",
       "      <td>0001</td>\n",
       "      <td>14392.0</td>\n",
       "      <td>2014</td>\n",
       "      <td>2018</td>\n",
       "    </tr>\n",
       "    <tr>\n",
       "      <th>2</th>\n",
       "      <td>0004</td>\n",
       "      <td>14418.0</td>\n",
       "      <td>2014</td>\n",
       "      <td>2018</td>\n",
       "    </tr>\n",
       "    <tr>\n",
       "      <th>3</th>\n",
       "      <td>000R</td>\n",
       "      <td>14378.0</td>\n",
       "      <td>2014</td>\n",
       "      <td>2019</td>\n",
       "    </tr>\n",
       "    <tr>\n",
       "      <th>4</th>\n",
       "      <td>000V</td>\n",
       "      <td>14423.0</td>\n",
       "      <td>2014</td>\n",
       "      <td>2015</td>\n",
       "    </tr>\n",
       "    <tr>\n",
       "      <th>...</th>\n",
       "      <td>...</td>\n",
       "      <td>...</td>\n",
       "      <td>...</td>\n",
       "      <td>...</td>\n",
       "    </tr>\n",
       "    <tr>\n",
       "      <th>27020</th>\n",
       "      <td>ZXZX</td>\n",
       "      <td>12720.0</td>\n",
       "      <td>2012</td>\n",
       "      <td>2016</td>\n",
       "    </tr>\n",
       "    <tr>\n",
       "      <th>27021</th>\n",
       "      <td>ZY</td>\n",
       "      <td>40539.0</td>\n",
       "      <td>1978</td>\n",
       "      <td>1989</td>\n",
       "    </tr>\n",
       "    <tr>\n",
       "      <th>27022</th>\n",
       "      <td>ZY</td>\n",
       "      <td>40539.0</td>\n",
       "      <td>1990</td>\n",
       "      <td>2023</td>\n",
       "    </tr>\n",
       "    <tr>\n",
       "      <th>27023</th>\n",
       "      <td>ZYNE</td>\n",
       "      <td>15646.0</td>\n",
       "      <td>2016</td>\n",
       "      <td>2023</td>\n",
       "    </tr>\n",
       "    <tr>\n",
       "      <th>27024</th>\n",
       "      <td>ZYNX</td>\n",
       "      <td>18418.0</td>\n",
       "      <td>2019</td>\n",
       "      <td>2023</td>\n",
       "    </tr>\n",
       "  </tbody>\n",
       "</table>\n",
       "<p>27025 rows × 4 columns</p>\n",
       "</div>"
      ],
      "text/plain": [
       "      ticker   permno  fyear_from  fyear_to\n",
       "0       0000  14471.0        2014      2016\n",
       "1       0001  14392.0        2014      2018\n",
       "2       0004  14418.0        2014      2018\n",
       "3       000R  14378.0        2014      2019\n",
       "4       000V  14423.0        2014      2015\n",
       "...      ...      ...         ...       ...\n",
       "27020   ZXZX  12720.0        2012      2016\n",
       "27021     ZY  40539.0        1978      1989\n",
       "27022     ZY  40539.0        1990      2023\n",
       "27023   ZYNE  15646.0        2016      2023\n",
       "27024   ZYNX  18418.0        2019      2023\n",
       "\n",
       "[27025 rows x 4 columns]"
      ]
     },
     "execution_count": 53,
     "metadata": {},
     "output_type": "execute_result"
    }
   ],
   "source": [
    "df"
   ]
  },
  {
   "cell_type": "code",
   "execution_count": 52,
   "id": "e2b9c00e",
   "metadata": {},
   "outputs": [],
   "source": [
    "df = df.drop(columns = ['sdate', 'edate', 'date_from', 'date_to', 'score', 'ncusip'])"
   ]
  },
  {
   "cell_type": "code",
   "execution_count": 54,
   "id": "6bebe689",
   "metadata": {},
   "outputs": [],
   "source": [
    "between = df.to_dict(orient = 'index')"
   ]
  },
  {
   "cell_type": "code",
   "execution_count": 55,
   "id": "dbac5a40",
   "metadata": {},
   "outputs": [],
   "source": [
    "in_between = []\n",
    "\n",
    "for k, v in between.items():\n",
    "    in_between.append([i for i in range(int(v['fyear_from']), int(v['fyear_to']) + 1)])"
   ]
  },
  {
   "cell_type": "code",
   "execution_count": 56,
   "id": "057163eb",
   "metadata": {},
   "outputs": [],
   "source": [
    "df['fyear'] = pd.Series(in_between)"
   ]
  },
  {
   "cell_type": "code",
   "execution_count": 57,
   "id": "0d320fde",
   "metadata": {},
   "outputs": [],
   "source": [
    "df = df.explode('fyear')"
   ]
  },
  {
   "cell_type": "code",
   "execution_count": 58,
   "id": "48a153cf",
   "metadata": {},
   "outputs": [],
   "source": [
    "df = df.drop(columns = ['fyear_from', 'fyear_to'])"
   ]
  },
  {
   "cell_type": "code",
   "execution_count": 60,
   "id": "719df3e5",
   "metadata": {},
   "outputs": [],
   "source": [
    "df.to_csv(os.path.join(os.getcwd(), '3_pipeline', '1_intermediate', 'crsp_ibes_link_final.tsv'),\n",
    "          sep = '\\t', index = False)"
   ]
  }
 ],
 "metadata": {
  "kernelspec": {
   "display_name": "Python 3 (ipykernel)",
   "language": "python",
   "name": "python3"
  },
  "language_info": {
   "codemirror_mode": {
    "name": "ipython",
    "version": 3
   },
   "file_extension": ".py",
   "mimetype": "text/x-python",
   "name": "python",
   "nbconvert_exporter": "python",
   "pygments_lexer": "ipython3",
   "version": "3.11.5"
  }
 },
 "nbformat": 4,
 "nbformat_minor": 5
}
