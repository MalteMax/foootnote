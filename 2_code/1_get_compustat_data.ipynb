{
 "cells": [
  {
   "cell_type": "code",
   "execution_count": 1,
   "id": "37c5fbff",
   "metadata": {},
   "outputs": [],
   "source": [
    "import os, re, wrds\n",
    "import numpy as np\n",
    "import pandas as pd\n",
    "from tqdm.notebook import tqdm_notebook as tqdm"
   ]
  },
  {
   "cell_type": "code",
   "execution_count": 2,
   "id": "70031d9c",
   "metadata": {},
   "outputs": [],
   "source": [
    "os.chdir('..')"
   ]
  },
  {
   "cell_type": "markdown",
   "id": "c2db92d5",
   "metadata": {},
   "source": [
    "---"
   ]
  },
  {
   "cell_type": "code",
   "execution_count": 3,
   "id": "18f56e1d",
   "metadata": {},
   "outputs": [
    {
     "name": "stdout",
     "output_type": "stream",
     "text": [
      "Enter your WRDS username [maltemax]:mmx900\n",
      "Enter your password:········\n",
      "WRDS recommends setting up a .pgpass file.\n",
      "Create .pgpass file now [y/n]?: n\n",
      "You can create this file yourself at any time with the create_pgpass_file() function.\n",
      "Loading library list...\n",
      "Done\n"
     ]
    }
   ],
   "source": [
    "db = wrds.Connection()"
   ]
  },
  {
   "cell_type": "code",
   "execution_count": 4,
   "id": "bf789cf9",
   "metadata": {},
   "outputs": [],
   "source": [
    "df = db.raw_sql(\"\"\"select gvkey, fyear, consol, indfmt, datafmt, popsrc, curcd, costat, at, ib, ni, sale, prcc_f, ceq, oancf, txfed, txdfed, pidom, xidoc, spi, nopi, glp, sppiv, xrd, dvc, csho, txndb, txdba, txdbca, txndba, tlcf\n",
    "from comp.funda\n",
    "\"\"\")"
   ]
  },
  {
   "cell_type": "code",
   "execution_count": 5,
   "id": "b450910c",
   "metadata": {},
   "outputs": [],
   "source": [
    "df = df.loc[df[['gvkey', 'fyear']].notna().all(axis = 1)]"
   ]
  },
  {
   "cell_type": "code",
   "execution_count": 6,
   "id": "6bbd6845",
   "metadata": {},
   "outputs": [],
   "source": [
    "df = df.loc[(df['consol'] == 'C') & (df['indfmt'] == 'INDL') &\n",
    "            (df['datafmt'] == 'STD') & (df['popsrc'] == 'D'),]"
   ]
  },
  {
   "cell_type": "code",
   "execution_count": 7,
   "id": "e1d80cca",
   "metadata": {},
   "outputs": [],
   "source": [
    "df = df.drop_duplicates(subset = ['gvkey', 'fyear'], keep = False)"
   ]
  },
  {
   "cell_type": "code",
   "execution_count": 8,
   "id": "8c144411",
   "metadata": {},
   "outputs": [],
   "source": [
    "df = df.sort_values(['gvkey', 'fyear'], ascending = True)"
   ]
  },
  {
   "cell_type": "code",
   "execution_count": 9,
   "id": "7c62215a",
   "metadata": {},
   "outputs": [],
   "source": [
    "df.to_csv(os.path.join(os.getcwd(), '3_pipeline', '1_intermediate', 'compustat.tsv'),\n",
    "          sep = '\\t',\n",
    "          index = False)"
   ]
  }
 ],
 "metadata": {
  "kernelspec": {
   "display_name": "Python 3 (ipykernel)",
   "language": "python",
   "name": "python3"
  },
  "language_info": {
   "codemirror_mode": {
    "name": "ipython",
    "version": 3
   },
   "file_extension": ".py",
   "mimetype": "text/x-python",
   "name": "python",
   "nbconvert_exporter": "python",
   "pygments_lexer": "ipython3",
   "version": "3.11.5"
  }
 },
 "nbformat": 4,
 "nbformat_minor": 5
}
