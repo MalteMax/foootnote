{
 "cells": [
  {
   "cell_type": "code",
   "execution_count": 1,
   "id": "37c5fbff",
   "metadata": {},
   "outputs": [],
   "source": [
    "import os, re, wrds\n",
    "import numpy as np\n",
    "import pandas as pd\n",
    "from tqdm.notebook import tqdm_notebook as tqdm"
   ]
  },
  {
   "cell_type": "code",
   "execution_count": 2,
   "id": "70031d9c",
   "metadata": {},
   "outputs": [],
   "source": [
    "os.chdir('..')"
   ]
  },
  {
   "cell_type": "markdown",
   "id": "c2db92d5",
   "metadata": {},
   "source": [
    "---"
   ]
  },
  {
   "cell_type": "code",
   "execution_count": 3,
   "id": "c3b14a1b",
   "metadata": {},
   "outputs": [],
   "source": [
    "meta = pd.read_csv(os.path.join(os.getcwd(), '3_pipeline', '1_intermediate', 'sample_raw.tsv'),\n",
    "                   sep = '\\t')"
   ]
  },
  {
   "cell_type": "code",
   "execution_count": 4,
   "id": "e773d326",
   "metadata": {},
   "outputs": [],
   "source": [
    "meta = meta.loc[meta['permno'].notna()]"
   ]
  },
  {
   "cell_type": "markdown",
   "id": "36fe9b0e",
   "metadata": {},
   "source": [
    "---"
   ]
  },
  {
   "cell_type": "code",
   "execution_count": 5,
   "id": "f128994a",
   "metadata": {},
   "outputs": [
    {
     "name": "stdout",
     "output_type": "stream",
     "text": [
      "Enter your WRDS username [maltemax]:mmx900\n",
      "Enter your password:········\n",
      "WRDS recommends setting up a .pgpass file.\n",
      "Create .pgpass file now [y/n]?: n\n",
      "You can create this file yourself at any time with the create_pgpass_file() function.\n",
      "Loading library list...\n",
      "Done\n"
     ]
    }
   ],
   "source": [
    "db = wrds.Connection()"
   ]
  },
  {
   "cell_type": "code",
   "execution_count": 6,
   "id": "e7b51620",
   "metadata": {},
   "outputs": [],
   "source": [
    "permnos = [str(int(p)) for p in meta['permno'].unique()]"
   ]
  },
  {
   "cell_type": "code",
   "execution_count": 7,
   "id": "92688aaa",
   "metadata": {},
   "outputs": [],
   "source": [
    "permnos = \"', '\".join(permnos)"
   ]
  },
  {
   "cell_type": "code",
   "execution_count": 10,
   "id": "58bd2a04",
   "metadata": {},
   "outputs": [],
   "source": [
    "test = db.get_table(table = 'dsf_v2', library = 'crsp', obs = 10)"
   ]
  },
  {
   "cell_type": "code",
   "execution_count": null,
   "id": "62025341",
   "metadata": {},
   "outputs": [],
   "source": [
    "db.list_tables('crsp')"
   ]
  },
  {
   "cell_type": "code",
   "execution_count": null,
   "id": "bf789cf9",
   "metadata": {},
   "outputs": [],
   "source": [
    "crsp = db.raw_sql(\"\"\"select permno, date, vol, numtrd, ret, retx, prc\n",
    "from crsp_a_stock.dsf\n",
    "where permno in ('{}')\n",
    "and date > '2005-01-01'\n",
    "\"\"\".format(permnos))"
   ]
  },
  {
   "cell_type": "code",
   "execution_count": null,
   "id": "7c62215a",
   "metadata": {},
   "outputs": [],
   "source": [
    "crsp.to_csv(os.path.join(os.getcwd(), '3_pipeline', '1_intermediate', 'crsp.tsv'), sep = '\\t', index = False)"
   ]
  },
  {
   "cell_type": "markdown",
   "id": "c71241e1",
   "metadata": {},
   "source": [
    "---"
   ]
  },
  {
   "cell_type": "code",
   "execution_count": null,
   "id": "a7104871",
   "metadata": {},
   "outputs": [],
   "source": [
    "db = wrds.Connection()"
   ]
  },
  {
   "cell_type": "code",
   "execution_count": null,
   "id": "ba4386c9",
   "metadata": {},
   "outputs": [],
   "source": [
    "sp500 = db.get_table('crsp_a_indexes', 'dsp500')"
   ]
  },
  {
   "cell_type": "code",
   "execution_count": null,
   "id": "b75d8440",
   "metadata": {},
   "outputs": [],
   "source": [
    "sp500.to_csv(os.path.join(os.getcwd(), '3_pipeline', '1_intermediate', 'sp500.tsv'), sep = '\\t', index = False)"
   ]
  }
 ],
 "metadata": {
  "kernelspec": {
   "display_name": "Python 3 (ipykernel)",
   "language": "python",
   "name": "python3"
  },
  "language_info": {
   "codemirror_mode": {
    "name": "ipython",
    "version": 3
   },
   "file_extension": ".py",
   "mimetype": "text/x-python",
   "name": "python",
   "nbconvert_exporter": "python",
   "pygments_lexer": "ipython3",
   "version": "3.11.5"
  }
 },
 "nbformat": 4,
 "nbformat_minor": 5
}
