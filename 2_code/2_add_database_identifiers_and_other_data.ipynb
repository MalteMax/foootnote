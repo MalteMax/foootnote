{
 "cells": [
  {
   "cell_type": "code",
   "execution_count": 1,
   "id": "e87c616b",
   "metadata": {},
   "outputs": [],
   "source": [
    "import os, re\n",
    "import numpy as np\n",
    "import pandas as pd"
   ]
  },
  {
   "cell_type": "code",
   "execution_count": 2,
   "id": "8ef6afa1",
   "metadata": {},
   "outputs": [],
   "source": [
    "os.chdir('..')"
   ]
  },
  {
   "cell_type": "markdown",
   "id": "ea509e8b",
   "metadata": {},
   "source": [
    "---"
   ]
  },
  {
   "cell_type": "code",
   "execution_count": 3,
   "id": "0a92d9e7",
   "metadata": {},
   "outputs": [],
   "source": [
    "df = pd.read_csv(os.path.join(os.getcwd(), '3_pipeline', '1_intermediate', 'compustat.tsv'),\n",
    "                 sep = '\\t')"
   ]
  },
  {
   "cell_type": "markdown",
   "id": "775ad2a2",
   "metadata": {},
   "source": [
    "add historic header variables"
   ]
  },
  {
   "cell_type": "code",
   "execution_count": 4,
   "id": "2e3b96cf",
   "metadata": {},
   "outputs": [],
   "source": [
    "comphist = pd.read_csv(os.path.join(os.getcwd(), '3_pipeline', '1_intermediate', 'comphist_prepared.tsv'),\n",
    "                       sep = '\\t')"
   ]
  },
  {
   "cell_type": "code",
   "execution_count": 5,
   "id": "7a8ec900",
   "metadata": {},
   "outputs": [],
   "source": [
    "df = df.merge(right = comphist, on = ['gvkey', 'fyear'], how = 'left')"
   ]
  },
  {
   "cell_type": "markdown",
   "id": "e899293c",
   "metadata": {},
   "source": [
    "add header variables and replace missing values on the historic variables by the header; then drop header variables"
   ]
  },
  {
   "cell_type": "code",
   "execution_count": 6,
   "id": "dfd33c10",
   "metadata": {},
   "outputs": [],
   "source": [
    "comp_header = pd.read_csv(os.path.join(os.getcwd(), '3_pipeline', '1_intermediate', 'compustat_header.tsv'),\n",
    "                          sep = '\\t')\n",
    "comp_header = comp_header.drop(columns = 'loc')"
   ]
  },
  {
   "cell_type": "code",
   "execution_count": 7,
   "id": "7f0f3537",
   "metadata": {},
   "outputs": [],
   "source": [
    "df = df.merge(right = comp_header, on = 'gvkey', how = 'left')"
   ]
  },
  {
   "cell_type": "code",
   "execution_count": 8,
   "id": "f7611362",
   "metadata": {},
   "outputs": [],
   "source": [
    "for var in ['fic', 'sic', 'cik']:\n",
    "    df[f'h{var}'] = df[f'h{var}'].fillna(df[var])"
   ]
  },
  {
   "cell_type": "code",
   "execution_count": 9,
   "id": "b9d372b6",
   "metadata": {},
   "outputs": [],
   "source": [
    "df = df.drop(columns = ['fic', 'sic', 'cik'])"
   ]
  },
  {
   "cell_type": "markdown",
   "id": "14228d1b",
   "metadata": {},
   "source": [
    "add CRSP PERMNO (based on CCM)"
   ]
  },
  {
   "cell_type": "code",
   "execution_count": 10,
   "id": "b0fddae1",
   "metadata": {},
   "outputs": [],
   "source": [
    "ccm = pd.read_csv(os.path.join(os.getcwd(), '1_data', 'compustat_crsp_link.tsv'),\n",
    "                  sep = '\\t')"
   ]
  },
  {
   "cell_type": "code",
   "execution_count": 11,
   "id": "e313a99a",
   "metadata": {},
   "outputs": [],
   "source": [
    "df = df.merge(right = ccm, on = ['gvkey', 'fyear'], how = 'left')"
   ]
  },
  {
   "cell_type": "code",
   "execution_count": 12,
   "id": "f01bff27",
   "metadata": {},
   "outputs": [],
   "source": [
    "df = df.rename(columns = {'lpermno' : 'permno'})"
   ]
  },
  {
   "cell_type": "markdown",
   "id": "3bd1b55c",
   "metadata": {},
   "source": [
    "add IBES ticker (based on CRSP-IBES link)"
   ]
  },
  {
   "cell_type": "code",
   "execution_count": 13,
   "id": "88583cbd",
   "metadata": {},
   "outputs": [],
   "source": [
    "ibes = pd.read_csv(os.path.join(os.getcwd(), '3_pipeline', '1_intermediate', 'crsp_ibes_link_final.tsv'),\n",
    "                   sep = '\\t')"
   ]
  },
  {
   "cell_type": "code",
   "execution_count": 14,
   "id": "9a5dbdeb",
   "metadata": {},
   "outputs": [],
   "source": [
    "ibes = ibes.rename(columns = {'ticker' : 'ibes_ticker'})"
   ]
  },
  {
   "cell_type": "code",
   "execution_count": 15,
   "id": "edfd612c",
   "metadata": {},
   "outputs": [],
   "source": [
    "df = df.merge(right = ibes, on = ['permno', 'fyear'], how = 'left')"
   ]
  },
  {
   "cell_type": "markdown",
   "id": "51fb53b5",
   "metadata": {},
   "source": [
    "load VA data and merge to the Compustat records; using the cik-fyear"
   ]
  },
  {
   "cell_type": "code",
   "execution_count": 16,
   "id": "c7571d45",
   "metadata": {},
   "outputs": [],
   "source": [
    "va_info = pd.read_csv(os.path.join(os.getcwd(), '3_pipeline', '1_intermediate', 'va_data_info.tsv'),\n",
    "                      sep = '\\t')"
   ]
  },
  {
   "cell_type": "code",
   "execution_count": 17,
   "id": "c2516874",
   "metadata": {},
   "outputs": [],
   "source": [
    "va_info = va_info.drop_duplicates(subset = ['cik', 'fyear'])"
   ]
  },
  {
   "cell_type": "code",
   "execution_count": 18,
   "id": "95b36fad",
   "metadata": {},
   "outputs": [],
   "source": [
    "va_info = va_info.rename(columns = {'cik' : 'hcik', 'sic' : 'sic_from_sec'})"
   ]
  },
  {
   "cell_type": "code",
   "execution_count": 19,
   "id": "a5a73918",
   "metadata": {},
   "outputs": [],
   "source": [
    "df = df.merge(right = va_info, on = ['hcik', 'fyear'], how = 'left')"
   ]
  },
  {
   "cell_type": "markdown",
   "id": "d9b596ac",
   "metadata": {},
   "source": [
    "add valuation allowance data"
   ]
  },
  {
   "cell_type": "code",
   "execution_count": 20,
   "id": "c5cfd2d8",
   "metadata": {},
   "outputs": [],
   "source": [
    "va = pd.read_csv(os.path.join(os.getcwd(), '3_pipeline', '1_intermediate', 'va_data_clean.tsv'),\n",
    "                 sep = '\\t')"
   ]
  },
  {
   "cell_type": "code",
   "execution_count": 21,
   "id": "ae61e458",
   "metadata": {},
   "outputs": [],
   "source": [
    "df = df.merge(right = va[['adsh', 'tag', 'va', 'zero_inferred']], on = 'adsh', how = 'left')"
   ]
  },
  {
   "cell_type": "markdown",
   "id": "fa0e7100",
   "metadata": {},
   "source": [
    "add DTA (gross)"
   ]
  },
  {
   "cell_type": "code",
   "execution_count": 22,
   "id": "feff9b4d",
   "metadata": {},
   "outputs": [],
   "source": [
    "dta = pd.read_csv(os.path.join(os.getcwd(), '3_pipeline', '1_intermediate', 'dta_gross.tsv'),\n",
    "                  sep = '\\t')"
   ]
  },
  {
   "cell_type": "code",
   "execution_count": 23,
   "id": "836f4e28",
   "metadata": {},
   "outputs": [],
   "source": [
    "df = df.merge(right = dta, on = 'adsh', how = 'left')"
   ]
  },
  {
   "cell_type": "markdown",
   "id": "4c0f6105",
   "metadata": {},
   "source": [
    "add imputed TLCFs"
   ]
  },
  {
   "cell_type": "code",
   "execution_count": 24,
   "id": "c74852eb",
   "metadata": {},
   "outputs": [],
   "source": [
    "imp = pd.read_csv(os.path.join(os.getcwd(), '1_data', 'imputation_upload_2024.txt'),\n",
    "                  sep = '\\t')"
   ]
  },
  {
   "cell_type": "code",
   "execution_count": 25,
   "id": "d99bbb9a",
   "metadata": {},
   "outputs": [],
   "source": [
    "df = df.merge(right = imp, on = ['gvkey', 'fyear'], how = 'left')"
   ]
  },
  {
   "cell_type": "markdown",
   "id": "e28be189",
   "metadata": {},
   "source": [
    "add additional info from imputation paper"
   ]
  },
  {
   "cell_type": "code",
   "execution_count": 26,
   "id": "eeb21272",
   "metadata": {},
   "outputs": [],
   "source": [
    "imp_add = pd.read_csv(os.path.join(os.getcwd(), '1_data', 'imputation_upload_2024_specifics_footnote_paper.txt'),\n",
    "                  sep = '\\t')"
   ]
  },
  {
   "cell_type": "code",
   "execution_count": 27,
   "id": "a244e847",
   "metadata": {},
   "outputs": [],
   "source": [
    "df = df.merge(right = imp_add[['gvkey', 'fyear', 'tlcf_pre_2018', 'tlcf_post_2018']], on = ['gvkey', 'fyear'], how = 'left')"
   ]
  },
  {
   "cell_type": "markdown",
   "id": "ce27872a",
   "metadata": {},
   "source": [
    "save to disk"
   ]
  },
  {
   "cell_type": "code",
   "execution_count": 28,
   "id": "c134ce43",
   "metadata": {},
   "outputs": [],
   "source": [
    "df.to_csv(os.path.join(os.getcwd(), '3_pipeline', '1_intermediate', 'sample_raw.tsv'),\n",
    "          sep = '\\t', index = False)"
   ]
  }
 ],
 "metadata": {
  "kernelspec": {
   "display_name": "Python 3 (ipykernel)",
   "language": "python",
   "name": "python3"
  },
  "language_info": {
   "codemirror_mode": {
    "name": "ipython",
    "version": 3
   },
   "file_extension": ".py",
   "mimetype": "text/x-python",
   "name": "python",
   "nbconvert_exporter": "python",
   "pygments_lexer": "ipython3",
   "version": "3.11.5"
  }
 },
 "nbformat": 4,
 "nbformat_minor": 5
}
