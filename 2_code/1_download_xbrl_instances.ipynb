{
 "cells": [
  {
   "cell_type": "code",
   "execution_count": 1,
   "id": "ba53b813",
   "metadata": {},
   "outputs": [],
   "source": [
    "import os, re, glob, requests, gzip, urllib.request, time, zipfile, shutil\n",
    "import numpy as np\n",
    "import pandas as pd\n",
    "from tqdm.notebook import tqdm_notebook as tqdm\n",
    "from bs4 import BeautifulSoup"
   ]
  },
  {
   "cell_type": "code",
   "execution_count": 2,
   "id": "fa386a30",
   "metadata": {},
   "outputs": [],
   "source": [
    "os.chdir('..')"
   ]
  },
  {
   "cell_type": "markdown",
   "id": "db122e77",
   "metadata": {},
   "source": [
    "---"
   ]
  },
  {
   "cell_type": "code",
   "execution_count": 3,
   "id": "a2dc4d2f",
   "metadata": {},
   "outputs": [],
   "source": [
    "pd.options.display.float_format = '{:.4f}'.format"
   ]
  },
  {
   "cell_type": "code",
   "execution_count": 4,
   "id": "a65137e2",
   "metadata": {},
   "outputs": [],
   "source": [
    "headers = {\"User-Agent\": \"jo boulement jo@gmx.at\"}"
   ]
  },
  {
   "cell_type": "code",
   "execution_count": 5,
   "id": "f2b7db19",
   "metadata": {},
   "outputs": [],
   "source": [
    "directory = '/Users/maltemax/Desktop/xbrl_instances'\n",
    "external = '/Volumes/T7 Shield/research_data/us_xbrl_instances'"
   ]
  },
  {
   "cell_type": "markdown",
   "id": "b08f7b51",
   "metadata": {},
   "source": [
    "---"
   ]
  },
  {
   "cell_type": "code",
   "execution_count": 6,
   "id": "c25a8689",
   "metadata": {
    "scrolled": false
   },
   "outputs": [],
   "source": [
    "df = pd.read_csv(os.path.join(os.getcwd(), '3_pipeline', '1_intermediate', 'va_data_raw.tsv'),\n",
    "                 sep = '\\t')"
   ]
  },
  {
   "cell_type": "code",
   "execution_count": 7,
   "id": "07097939",
   "metadata": {},
   "outputs": [],
   "source": [
    "df = df.drop_duplicates(subset = 'adsh')"
   ]
  },
  {
   "cell_type": "code",
   "execution_count": 11,
   "id": "a37c46d7",
   "metadata": {},
   "outputs": [],
   "source": [
    "files_desktop = [re.search('(.*?).xml', f)[1] for f in os.listdir(directory) if f.endswith('xml')]"
   ]
  },
  {
   "cell_type": "code",
   "execution_count": 12,
   "id": "8d86b409",
   "metadata": {},
   "outputs": [],
   "source": [
    "files_external = [re.search('(.*?).xml', f)[1] for f in os.listdir(external) if f.endswith('xml')]"
   ]
  },
  {
   "cell_type": "code",
   "execution_count": 14,
   "id": "780794f9",
   "metadata": {},
   "outputs": [],
   "source": [
    "files = files_external + files_desktop "
   ]
  },
  {
   "cell_type": "code",
   "execution_count": 15,
   "id": "7376f66a",
   "metadata": {},
   "outputs": [
    {
     "data": {
      "text/plain": [
       "84052"
      ]
     },
     "execution_count": 15,
     "metadata": {},
     "output_type": "execute_result"
    }
   ],
   "source": [
    "len(df)"
   ]
  },
  {
   "cell_type": "code",
   "execution_count": 16,
   "id": "f3eef1f9",
   "metadata": {},
   "outputs": [],
   "source": [
    "df = df.loc[~df['adsh'].isin(files)]"
   ]
  },
  {
   "cell_type": "code",
   "execution_count": 19,
   "id": "b866256e",
   "metadata": {
    "scrolled": false
   },
   "outputs": [
    {
     "data": {
      "application/vnd.jupyter.widget-view+json": {
       "model_id": "f914bbb88440431092f0bcb2acf05265",
       "version_major": 2,
       "version_minor": 0
      },
      "text/plain": [
       "  0%|          | 0/127 [00:00<?, ?it/s]"
      ]
     },
     "metadata": {},
     "output_type": "display_data"
    }
   ],
   "source": [
    "for i, r in tqdm(df.iterrows(), total = len(df)):\n",
    "    content = requests.get(r['url_instance'], headers = headers).content\n",
    "    with open(os.path.join(directory, f'{r[\"adsh\"]}.xml'), 'wb') as file:\n",
    "        file.write(content)"
   ]
  }
 ],
 "metadata": {
  "kernelspec": {
   "display_name": "Python 3 (ipykernel)",
   "language": "python",
   "name": "python3"
  },
  "language_info": {
   "codemirror_mode": {
    "name": "ipython",
    "version": 3
   },
   "file_extension": ".py",
   "mimetype": "text/x-python",
   "name": "python",
   "nbconvert_exporter": "python",
   "pygments_lexer": "ipython3",
   "version": "3.11.5"
  }
 },
 "nbformat": 4,
 "nbformat_minor": 5
}
