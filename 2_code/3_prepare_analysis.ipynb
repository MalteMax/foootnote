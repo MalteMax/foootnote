{
 "cells": [
  {
   "cell_type": "code",
   "execution_count": 2,
   "id": "0c783ecd",
   "metadata": {},
   "outputs": [],
   "source": [
    "import os, re\n",
    "import numpy as np\n",
    "import pandas as pd\n",
    "from tqdm.notebook import tqdm_notebook as tqdm\n",
    "import matplotlib.pyplot as plt"
   ]
  },
  {
   "cell_type": "code",
   "execution_count": 3,
   "id": "1e7088f3",
   "metadata": {},
   "outputs": [],
   "source": [
    "os.chdir('..')"
   ]
  },
  {
   "cell_type": "markdown",
   "id": "3e9d1be3",
   "metadata": {},
   "source": [
    "---"
   ]
  },
  {
   "cell_type": "code",
   "execution_count": 150,
   "id": "62ba2f1a",
   "metadata": {},
   "outputs": [],
   "source": [
    "df = pd.read_csv(os.path.join(os.getcwd(), '3_pipeline', '1_intermediate', 'sample_raw.tsv'),\n",
    "                 sep = '\\t')"
   ]
  },
  {
   "cell_type": "code",
   "execution_count": 151,
   "id": "e4e62d64",
   "metadata": {},
   "outputs": [],
   "source": [
    "df = df.sort_values(by = ['gvkey', 'fyear'])"
   ]
  },
  {
   "cell_type": "markdown",
   "id": "c4e31b10",
   "metadata": {},
   "source": [
    "create loss sequence variable"
   ]
  },
  {
   "cell_type": "code",
   "execution_count": 152,
   "id": "6edd0354",
   "metadata": {},
   "outputs": [],
   "source": [
    "# first create variable to check whether years are consecutive\n",
    "df['L1_fyear'] = df.groupby('gvkey')['fyear'].shift(1)\n",
    "df['is_year_cons'] = np.where((df['fyear'] - df['L1_fyear']) == 1, 1, 0)"
   ]
  },
  {
   "cell_type": "code",
   "execution_count": 153,
   "id": "f757b917",
   "metadata": {},
   "outputs": [],
   "source": [
    "out = []\n",
    "loss_count = 0\n",
    "\n",
    "for i, r in df.iterrows():\n",
    "    if r['is_year_cons'] == 0:\n",
    "        loss_count = 0\n",
    "    elif pd.isnull(r['ib']):\n",
    "        loss_count = 0\n",
    "    elif r['ib'] >= 0:\n",
    "        loss_count = 0\n",
    "    elif r['ib'] < 0:\n",
    "        loss_count += 1\n",
    "    \n",
    "    # only append from second loss onwards (otherwise 'sequential' doesn't really make sense?)\n",
    "    # and: there is also a firstloss dummy in the data that captures the first instance of a loss\n",
    "    loss_count_to_append = 0 if loss_count == 1 else loss_count\n",
    "    \n",
    "    out.append(loss_count_to_append)"
   ]
  },
  {
   "cell_type": "code",
   "execution_count": 154,
   "id": "9b2eb51d",
   "metadata": {},
   "outputs": [],
   "source": [
    "df['lossseq'] = out"
   ]
  },
  {
   "cell_type": "code",
   "execution_count": 155,
   "id": "245a22e2",
   "metadata": {},
   "outputs": [],
   "source": [
    "df['lossseq'] = np.where(df['ib'].isna(), np.nan, df['lossseq'])"
   ]
  },
  {
   "cell_type": "markdown",
   "id": "adf8cc93",
   "metadata": {},
   "source": [
    "identify observations that have a zero TLCF somewhere in years 2017-onwards"
   ]
  },
  {
   "cell_type": "code",
   "execution_count": 156,
   "id": "8d5f6c24",
   "metadata": {},
   "outputs": [],
   "source": [
    "df['tlcf_zero'] = np.where((df['tlcf'] == 0) & (df['fyear'].isin(range(2018, 2023 + 1))), 1, 0)\n",
    "df['tlcf_nonzero'] = np.where((df['tlcf'] > 0) & (df['fyear'].isin(range(2018, 2023 + 1))), 1, 0)"
   ]
  },
  {
   "cell_type": "code",
   "execution_count": 157,
   "id": "3d3f36db",
   "metadata": {},
   "outputs": [],
   "source": [
    "df['tlcf_zero_max'] = df.groupby('gvkey')['tlcf_zero'].transform('max')\n",
    "df['tlcf_zero_max'] = np.where(df['fyear'] < 2018, np.nan, df['tlcf_zero_max'])\n",
    "df['tlcf_nonzero_max'] = df.groupby('gvkey')['tlcf_nonzero'].transform('max')\n",
    "df['tlcf_nonzero_max'] = np.where(df['fyear'] < 2018, np.nan, df['tlcf_nonzero_max'])"
   ]
  },
  {
   "cell_type": "code",
   "execution_count": 158,
   "id": "0ea38849",
   "metadata": {},
   "outputs": [],
   "source": [
    "# get first year in which a TLCF of zero occurred in the period 2017-2023\n",
    "# if a firm has a nonzero TLCF after *that* should be an indefinite TLCF\n",
    "tlcf_zero_firstyear = df.loc[(df['tlcf_nonzero_max'] == 1) &\n",
    "                             (df['tlcf_zero_max'] == 1), ['gvkey', 'fyear', 'tlcf_zero',\n",
    "                                                          'tlcf', 'tlcf_zero_max', 'tlcf_nonzero_max']]"
   ]
  },
  {
   "cell_type": "code",
   "execution_count": 159,
   "id": "2ea23e80",
   "metadata": {},
   "outputs": [],
   "source": [
    "tlcf_zero_firstyear['first_year'] = tlcf_zero_firstyear.groupby(['gvkey', 'tlcf_zero'])['fyear'].transform('min')"
   ]
  },
  {
   "cell_type": "code",
   "execution_count": 160,
   "id": "59680424",
   "metadata": {},
   "outputs": [],
   "source": [
    "tlcf_zero_firstyear = tlcf_zero_firstyear.loc[tlcf_zero_firstyear['tlcf_zero'] == 1, ['gvkey', 'first_year']]"
   ]
  },
  {
   "cell_type": "code",
   "execution_count": 161,
   "id": "23dfd908",
   "metadata": {},
   "outputs": [],
   "source": [
    "tlcf_zero_firstyear = tlcf_zero_firstyear.drop_duplicates('gvkey', keep = 'first')"
   ]
  },
  {
   "cell_type": "code",
   "execution_count": 162,
   "id": "c8a45063",
   "metadata": {},
   "outputs": [],
   "source": [
    "# merge that info back to df\n",
    "df = df.merge(right = tlcf_zero_firstyear, how = 'left', on = 'gvkey')"
   ]
  },
  {
   "cell_type": "code",
   "execution_count": 163,
   "id": "a3698e78",
   "metadata": {},
   "outputs": [],
   "source": [
    "# note: the below assigns a zero also to observations outside of 2017-2023; check this\n",
    "df['treat'] = np.where((df['fyear'] > 2018) &\n",
    "                       (df['fyear'] > df['first_year']) &\n",
    "                       (df['tlcf'] > 0), 1, 0)"
   ]
  },
  {
   "cell_type": "code",
   "execution_count": 164,
   "id": "c4bf5f96",
   "metadata": {},
   "outputs": [],
   "source": [
    "df = df.drop(columns = ['tlcf_zero', 'tlcf_nonzero', 'tlcf_zero_max', 'tlcf_nonzero_max'])"
   ]
  },
  {
   "cell_type": "code",
   "execution_count": 167,
   "id": "fb8a4827",
   "metadata": {},
   "outputs": [],
   "source": [
    "df.to_stata(os.path.join(os.getcwd(), '3_pipeline', '1_intermediate', 'sample.dta'),\n",
    "            write_index = False)"
   ]
  }
 ],
 "metadata": {
  "kernelspec": {
   "display_name": "Python 3 (ipykernel)",
   "language": "python",
   "name": "python3"
  },
  "language_info": {
   "codemirror_mode": {
    "name": "ipython",
    "version": 3
   },
   "file_extension": ".py",
   "mimetype": "text/x-python",
   "name": "python",
   "nbconvert_exporter": "python",
   "pygments_lexer": "ipython3",
   "version": "3.11.5"
  }
 },
 "nbformat": 4,
 "nbformat_minor": 5
}
