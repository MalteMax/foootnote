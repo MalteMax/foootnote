{
 "cells": [
  {
   "cell_type": "code",
   "execution_count": 1,
   "id": "58016411",
   "metadata": {},
   "outputs": [],
   "source": [
    "import wrds, os\n",
    "import numpy as np\n",
    "import pandas as pd"
   ]
  },
  {
   "cell_type": "code",
   "execution_count": 2,
   "id": "66355123",
   "metadata": {},
   "outputs": [],
   "source": [
    "os.chdir('..')"
   ]
  },
  {
   "cell_type": "markdown",
   "id": "0bec8dd3",
   "metadata": {},
   "source": [
    "---"
   ]
  },
  {
   "cell_type": "code",
   "execution_count": 4,
   "id": "75d59cab",
   "metadata": {
    "scrolled": true
   },
   "outputs": [
    {
     "name": "stdout",
     "output_type": "stream",
     "text": [
      "Enter your WRDS username [maltemax]:mmx900\n",
      "Enter your password:········\n",
      "WRDS recommends setting up a .pgpass file.\n",
      "Create .pgpass file now [y/n]?: n\n",
      "You can create this file yourself at any time with the create_pgpass_file() function.\n",
      "Loading library list...\n",
      "Done\n"
     ]
    }
   ],
   "source": [
    "db = wrds.Connection()"
   ]
  },
  {
   "cell_type": "code",
   "execution_count": 8,
   "id": "17fa3b8a",
   "metadata": {},
   "outputs": [],
   "source": [
    "comp_header = db.get_table('comp', 'company', columns = ['gvkey', 'conm', 'sic', 'fic', 'loc', 'cik'])"
   ]
  },
  {
   "cell_type": "code",
   "execution_count": 11,
   "id": "8e35a9d3",
   "metadata": {},
   "outputs": [],
   "source": [
    "comp_header.to_csv(os.path.join(os.getcwd(), '3_pipeline', '1_intermediate', 'compustat_header.tsv'),\n",
    "                   sep = '\\t', index = False)"
   ]
  }
 ],
 "metadata": {
  "kernelspec": {
   "display_name": "Python 3 (ipykernel)",
   "language": "python",
   "name": "python3"
  },
  "language_info": {
   "codemirror_mode": {
    "name": "ipython",
    "version": 3
   },
   "file_extension": ".py",
   "mimetype": "text/x-python",
   "name": "python",
   "nbconvert_exporter": "python",
   "pygments_lexer": "ipython3",
   "version": "3.11.5"
  }
 },
 "nbformat": 4,
 "nbformat_minor": 5
}
