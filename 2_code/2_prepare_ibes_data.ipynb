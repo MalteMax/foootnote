{
 "cells": [
  {
   "cell_type": "code",
   "execution_count": 1,
   "id": "4ecc4805",
   "metadata": {},
   "outputs": [],
   "source": [
    "import os, re\n",
    "import numpy as np\n",
    "import pandas as pd\n",
    "from tqdm.notebook import tqdm_notebook as tqdm"
   ]
  },
  {
   "cell_type": "code",
   "execution_count": 2,
   "id": "5cc86627",
   "metadata": {},
   "outputs": [],
   "source": [
    "os.chdir('..')"
   ]
  },
  {
   "cell_type": "markdown",
   "id": "92f9a1aa",
   "metadata": {},
   "source": [
    "---"
   ]
  },
  {
   "cell_type": "code",
   "execution_count": 4,
   "id": "61327bac",
   "metadata": {},
   "outputs": [],
   "source": [
    "df = pd.read_csv(os.path.join(os.getcwd(), '3_pipeline', '1_intermediate', 'ibes_summary_file_raw.tsv'),\n",
    "                 sep = '\\t')"
   ]
  },
  {
   "cell_type": "markdown",
   "id": "e46babf1",
   "metadata": {},
   "source": [
    "keep relevant columns"
   ]
  },
  {
   "cell_type": "code",
   "execution_count": 6,
   "id": "dde71a4f",
   "metadata": {},
   "outputs": [],
   "source": [
    "df = df[['ticker', 'fpedats', 'statpers', 'anndats_act', 'actual', 'meanest', 'medest', 'numest']]"
   ]
  },
  {
   "cell_type": "markdown",
   "id": "fc39031f",
   "metadata": {},
   "source": [
    "delete:\n",
    "\n",
    "1. if actual EPS is missing\n",
    "2. if forecast data is after annual report date\n",
    "3. forecast is not the latest forecast (i.e., only keep latest forecast)"
   ]
  },
  {
   "cell_type": "code",
   "execution_count": 7,
   "id": "0f5f14fa",
   "metadata": {},
   "outputs": [],
   "source": [
    "df = df.loc[df['actual'].notna()]"
   ]
  },
  {
   "cell_type": "code",
   "execution_count": 8,
   "id": "5dab2552",
   "metadata": {},
   "outputs": [],
   "source": [
    "df['statpers'] = pd.to_datetime(df['statpers'])\n",
    "df['anndats_act'] = pd.to_datetime(df['anndats_act'])"
   ]
  },
  {
   "cell_type": "code",
   "execution_count": 9,
   "id": "32d37a73",
   "metadata": {},
   "outputs": [],
   "source": [
    "df = df.loc[df['statpers'] == df.groupby(['ticker', 'fpedats'])['statpers'].transform('max')]"
   ]
  },
  {
   "cell_type": "markdown",
   "id": "2b36c96a",
   "metadata": {},
   "source": [
    "sort"
   ]
  },
  {
   "cell_type": "code",
   "execution_count": 10,
   "id": "1ba57338",
   "metadata": {},
   "outputs": [],
   "source": [
    "df = df.sort_values(by = ['ticker', 'fpedats', 'statpers'])"
   ]
  },
  {
   "cell_type": "markdown",
   "id": "5cd649c2",
   "metadata": {},
   "source": [
    "get fyear"
   ]
  },
  {
   "cell_type": "code",
   "execution_count": 11,
   "id": "f680c8fb",
   "metadata": {},
   "outputs": [],
   "source": [
    "df['fpedats'] = pd.to_datetime(df['fpedats'])"
   ]
  },
  {
   "cell_type": "code",
   "execution_count": 12,
   "id": "ae0ae2fc",
   "metadata": {},
   "outputs": [],
   "source": [
    "df['fyear'] = np.where(df['fpedats'].dt.month < 6,\n",
    "                       df['fpedats'].dt.year - 1,\n",
    "                       df['fpedats'].dt.year)"
   ]
  },
  {
   "cell_type": "markdown",
   "id": "cb916d33",
   "metadata": {},
   "source": [
    "save to disk"
   ]
  },
  {
   "cell_type": "code",
   "execution_count": 13,
   "id": "0c660308",
   "metadata": {},
   "outputs": [],
   "source": [
    "df.to_csv(os.path.join(os.getcwd(), '3_pipeline', '1_intermediate', 'ibes_summary_file_clean.tsv'),\n",
    "          sep = '\\t', index = False)"
   ]
  }
 ],
 "metadata": {
  "kernelspec": {
   "display_name": "Python 3 (ipykernel)",
   "language": "python",
   "name": "python3"
  },
  "language_info": {
   "codemirror_mode": {
    "name": "ipython",
    "version": 3
   },
   "file_extension": ".py",
   "mimetype": "text/x-python",
   "name": "python",
   "nbconvert_exporter": "python",
   "pygments_lexer": "ipython3",
   "version": "3.11.5"
  }
 },
 "nbformat": 4,
 "nbformat_minor": 5
}
