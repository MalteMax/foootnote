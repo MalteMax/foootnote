{
 "cells": [
  {
   "cell_type": "code",
   "execution_count": 1,
   "id": "39509769",
   "metadata": {},
   "outputs": [],
   "source": [
    "import os, re, json\n",
    "import numpy as np\n",
    "import pandas as pd\n",
    "from tqdm.notebook import tqdm_notebook as tqdm"
   ]
  },
  {
   "cell_type": "code",
   "execution_count": 2,
   "id": "475cb351",
   "metadata": {},
   "outputs": [],
   "source": [
    "os.chdir('..')"
   ]
  },
  {
   "cell_type": "markdown",
   "id": "b45761c1",
   "metadata": {},
   "source": [
    "---"
   ]
  },
  {
   "cell_type": "code",
   "execution_count": 150,
   "id": "f52b223a",
   "metadata": {},
   "outputs": [],
   "source": [
    "df = pd.read_stata(os.path.join(os.getcwd(), '3_pipeline', '1_intermediate', 'sample_clean.dta'))"
   ]
  },
  {
   "cell_type": "code",
   "execution_count": 151,
   "id": "42562a18",
   "metadata": {},
   "outputs": [],
   "source": [
    "# winsorize 1/99 per fyear\n",
    "winsorized = []\n",
    "\n",
    "for year in df['fyear'].unique():\n",
    "    part = df.loc[df['fyear'] == year].copy()\n",
    "    part['va_w'] = part['va'].clip(lower = part['va'].quantile(0),\n",
    "                                   upper = part['va'].quantile(0.99))\n",
    "    winsorized.append(part[['gvkey', 'fyear', 'va_w']])"
   ]
  },
  {
   "cell_type": "code",
   "execution_count": 152,
   "id": "3f1fd5bd",
   "metadata": {},
   "outputs": [],
   "source": [
    "df = df.merge(right = pd.concat(winsorized), how = 'left', on = ['gvkey', 'fyear'])"
   ]
  },
  {
   "cell_type": "code",
   "execution_count": 153,
   "id": "2a09b629",
   "metadata": {},
   "outputs": [
    {
     "data": {
      "text/plain": [
       "<Axes: >"
      ]
     },
     "execution_count": 153,
     "metadata": {},
     "output_type": "execute_result"
    },
    {
     "data": {
      "image/png": "[encoded data removed]",
      "text/plain": [
       "<Figure size 640x480 with 1 Axes>"
      ]
     },
     "metadata": {},
     "output_type": "display_data"
    }
   ],
   "source": [
    "df['va_w'].hist()"
   ]
  },
  {
   "cell_type": "code",
   "execution_count": 110,
   "id": "35d1e5b0",
   "metadata": {},
   "outputs": [
    {
     "data": {
      "text/html": [
       "<div>\n",
       "<style scoped>\n",
       "    .dataframe tbody tr th:only-of-type {\n",
       "        vertical-align: middle;\n",
       "    }\n",
       "\n",
       "    .dataframe tbody tr th {\n",
       "        vertical-align: top;\n",
       "    }\n",
       "\n",
       "    .dataframe thead th {\n",
       "        text-align: right;\n",
       "    }\n",
       "</style>\n",
       "<table border=\"1\" class=\"dataframe\">\n",
       "  <thead>\n",
       "    <tr style=\"text-align: right;\">\n",
       "      <th></th>\n",
       "      <th>index</th>\n",
       "      <th>mean</th>\n",
       "      <th>std</th>\n",
       "      <th>min</th>\n",
       "      <th>25%</th>\n",
       "      <th>50%</th>\n",
       "      <th>75%</th>\n",
       "      <th>max</th>\n",
       "    </tr>\n",
       "  </thead>\n",
       "  <tbody>\n",
       "    <tr>\n",
       "      <th>0</th>\n",
       "      <td>ln_va</td>\n",
       "      <td>2.70</td>\n",
       "      <td>2.05</td>\n",
       "      <td>0.0</td>\n",
       "      <td>0.71</td>\n",
       "      <td>2.75</td>\n",
       "      <td>4.25</td>\n",
       "      <td>15.69</td>\n",
       "    </tr>\n",
       "    <tr>\n",
       "      <th>1</th>\n",
       "      <td>va_d</td>\n",
       "      <td>0.87</td>\n",
       "      <td>0.34</td>\n",
       "      <td>0.0</td>\n",
       "      <td>1.00</td>\n",
       "      <td>1.00</td>\n",
       "      <td>1.00</td>\n",
       "      <td>1.00</td>\n",
       "    </tr>\n",
       "    <tr>\n",
       "      <th>2</th>\n",
       "      <td>va_w</td>\n",
       "      <td>94.88</td>\n",
       "      <td>259.10</td>\n",
       "      <td>0.0</td>\n",
       "      <td>1.04</td>\n",
       "      <td>14.72</td>\n",
       "      <td>69.30</td>\n",
       "      <td>2640.89</td>\n",
       "    </tr>\n",
       "  </tbody>\n",
       "</table>\n",
       "</div>"
      ],
      "text/plain": [
       "   index   mean     std  min   25%    50%    75%      max\n",
       "0  ln_va   2.70    2.05  0.0  0.71   2.75   4.25    15.69\n",
       "1   va_d   0.87    0.34  0.0  1.00   1.00   1.00     1.00\n",
       "2   va_w  94.88  259.10  0.0  1.04  14.72  69.30  2640.89"
      ]
     },
     "execution_count": 110,
     "metadata": {},
     "output_type": "execute_result"
    }
   ],
   "source": [
    "df[['ln_va', 'va_d', 'va_w']].describe().T[['mean', 'std', 'min', '25%', '50%', '75%', 'max']].reset_index().round(2)"
   ]
  },
  {
   "cell_type": "code",
   "execution_count": 163,
   "id": "f2093fd6",
   "metadata": {},
   "outputs": [
    {
     "data": {
      "text/html": [
       "<div>\n",
       "<style scoped>\n",
       "    .dataframe tbody tr th:only-of-type {\n",
       "        vertical-align: middle;\n",
       "    }\n",
       "\n",
       "    .dataframe tbody tr th {\n",
       "        vertical-align: top;\n",
       "    }\n",
       "\n",
       "    .dataframe thead th {\n",
       "        text-align: right;\n",
       "    }\n",
       "</style>\n",
       "<table border=\"1\" class=\"dataframe\">\n",
       "  <thead>\n",
       "    <tr style=\"text-align: right;\">\n",
       "      <th></th>\n",
       "      <th>cik</th>\n",
       "      <th>adsh</th>\n",
       "      <th>fyear</th>\n",
       "      <th>va</th>\n",
       "    </tr>\n",
       "  </thead>\n",
       "  <tbody>\n",
       "    <tr>\n",
       "      <th>15065</th>\n",
       "      <td>1604868</td>\n",
       "      <td>0001628280-24-010996</td>\n",
       "      <td>2023</td>\n",
       "      <td>49.518</td>\n",
       "    </tr>\n",
       "    <tr>\n",
       "      <th>29976</th>\n",
       "      <td>1350593</td>\n",
       "      <td>0001350593-12-000058</td>\n",
       "      <td>2012</td>\n",
       "      <td>49.200</td>\n",
       "    </tr>\n",
       "    <tr>\n",
       "      <th>25340</th>\n",
       "      <td>1078271</td>\n",
       "      <td>0001078271-12-000048</td>\n",
       "      <td>2012</td>\n",
       "      <td>140.641</td>\n",
       "    </tr>\n",
       "    <tr>\n",
       "      <th>30188</th>\n",
       "      <td>1236275</td>\n",
       "      <td>0001185185-21-000371</td>\n",
       "      <td>2020</td>\n",
       "      <td>0.462</td>\n",
       "    </tr>\n",
       "    <tr>\n",
       "      <th>33684</th>\n",
       "      <td>1294924</td>\n",
       "      <td>0001193125-15-204243</td>\n",
       "      <td>2014</td>\n",
       "      <td>5.221</td>\n",
       "    </tr>\n",
       "  </tbody>\n",
       "</table>\n",
       "</div>"
      ],
      "text/plain": [
       "           cik                  adsh  fyear       va\n",
       "15065  1604868  0001628280-24-010996   2023   49.518\n",
       "29976  1350593  0001350593-12-000058   2012   49.200\n",
       "25340  1078271  0001078271-12-000048   2012  140.641\n",
       "30188  1236275  0001185185-21-000371   2020    0.462\n",
       "33684  1294924  0001193125-15-204243   2014    5.221"
      ]
     },
     "execution_count": 163,
     "metadata": {},
     "output_type": "execute_result"
    }
   ],
   "source": [
    "df.loc[df['zero_inferred'] == 0, ['cik', 'adsh', 'fyear', 'va']].sample(5)"
   ]
  },
  {
   "cell_type": "code",
   "execution_count": 55,
   "id": "00101594",
   "metadata": {},
   "outputs": [
    {
     "data": {
      "text/plain": [
       "<Axes: xlabel='fyear'>"
      ]
     },
     "execution_count": 55,
     "metadata": {},
     "output_type": "execute_result"
    },
    {
     "data": {
      "image/png": "[encoded data removed]",
      "text/plain": [
       "<Figure size 640x480 with 1 Axes>"
      ]
     },
     "metadata": {},
     "output_type": "display_data"
    }
   ],
   "source": [
    "df.groupby('fyear')['gvkey'].count().plot.bar()"
   ]
  },
  {
   "cell_type": "code",
   "execution_count": 56,
   "id": "064c2124",
   "metadata": {},
   "outputs": [
    {
     "data": {
      "text/plain": [
       "<Axes: xlabel='fyear'>"
      ]
     },
     "execution_count": 56,
     "metadata": {},
     "output_type": "execute_result"
    },
    {
     "data": {
      "image/png": "[encoded data removed]",
      "text/plain": [
       "<Figure size 640x480 with 1 Axes>"
      ]
     },
     "metadata": {},
     "output_type": "display_data"
    }
   ],
   "source": [
    "df['ln_va'].groupby(df['fyear']).mean().plot()"
   ]
  },
  {
   "cell_type": "code",
   "execution_count": 57,
   "id": "3374cdd1",
   "metadata": {},
   "outputs": [
    {
     "data": {
      "text/plain": [
       "<Axes: xlabel='fyear'>"
      ]
     },
     "execution_count": 57,
     "metadata": {},
     "output_type": "execute_result"
    },
    {
     "data": {
      "image/png": "[encoded data removed]",
      "text/plain": [
       "<Figure size 640x480 with 1 Axes>"
      ]
     },
     "metadata": {},
     "output_type": "display_data"
    }
   ],
   "source": [
    "df['va_d'].groupby(df['fyear']).mean().plot()"
   ]
  },
  {
   "cell_type": "code",
   "execution_count": 58,
   "id": "c5207e88",
   "metadata": {
    "scrolled": false
   },
   "outputs": [
    {
     "data": {
      "text/plain": [
       "<Axes: xlabel='fyear'>"
      ]
     },
     "execution_count": 58,
     "metadata": {},
     "output_type": "execute_result"
    },
    {
     "data": {
      "image/png": "[encoded data removed]",
      "text/plain": [
       "<Figure size 640x480 with 1 Axes>"
      ]
     },
     "metadata": {},
     "output_type": "display_data"
    }
   ],
   "source": [
    "df.loc[df['va'] == 0].groupby('fyear')['gvkey'].count().plot.bar()"
   ]
  },
  {
   "cell_type": "code",
   "execution_count": 9,
   "id": "7662e9db",
   "metadata": {},
   "outputs": [],
   "source": [
    "# df = df.loc[df['zero_inferred'] == 0]"
   ]
  },
  {
   "cell_type": "markdown",
   "id": "66b639b2",
   "metadata": {},
   "source": [
    "limit to companies that had a TLCF of zero in 2017\n",
    "\n",
    "* for those firms, all carryforwards in 2018 or later are indefinite"
   ]
  },
  {
   "cell_type": "code",
   "execution_count": 61,
   "id": "f78e05cc",
   "metadata": {},
   "outputs": [],
   "source": [
    "treat = df.loc[(df['fyear'] == 2017) &\n",
    "               (df['va'] == 0) &\n",
    "               (df['tlcf'] == 0), 'gvkey'].unique()"
   ]
  },
  {
   "cell_type": "code",
   "execution_count": 63,
   "id": "d4fd5288",
   "metadata": {},
   "outputs": [],
   "source": [
    "df = df.loc[df['gvkey'].isin(treat)]"
   ]
  },
  {
   "cell_type": "code",
   "execution_count": 64,
   "id": "402c47ca",
   "metadata": {},
   "outputs": [
    {
     "data": {
      "text/html": [
       "<div>\n",
       "<style scoped>\n",
       "    .dataframe tbody tr th:only-of-type {\n",
       "        vertical-align: middle;\n",
       "    }\n",
       "\n",
       "    .dataframe tbody tr th {\n",
       "        vertical-align: top;\n",
       "    }\n",
       "\n",
       "    .dataframe thead th {\n",
       "        text-align: right;\n",
       "    }\n",
       "</style>\n",
       "<table border=\"1\" class=\"dataframe\">\n",
       "  <thead>\n",
       "    <tr style=\"text-align: right;\">\n",
       "      <th></th>\n",
       "      <th>gvkey</th>\n",
       "      <th>fyear</th>\n",
       "      <th>cik</th>\n",
       "      <th>adsh</th>\n",
       "      <th>permno</th>\n",
       "      <th>ibes_ticker</th>\n",
       "      <th>fic</th>\n",
       "      <th>sic</th>\n",
       "      <th>va</th>\n",
       "      <th>zero_inferred</th>\n",
       "      <th>...</th>\n",
       "      <th>profit</th>\n",
       "      <th>mtb</th>\n",
       "      <th>lev</th>\n",
       "      <th>cfo</th>\n",
       "      <th>roa</th>\n",
       "      <th>tax</th>\n",
       "      <th>pifo_d</th>\n",
       "      <th>txdfo_d</th>\n",
       "      <th>txfo_d</th>\n",
       "      <th>mne</th>\n",
       "    </tr>\n",
       "  </thead>\n",
       "  <tbody>\n",
       "    <tr>\n",
       "      <th>19</th>\n",
       "      <td>1076.0</td>\n",
       "      <td>2012</td>\n",
       "      <td>706688</td>\n",
       "      <td>0001193125-13-071592</td>\n",
       "      <td>10517.0</td>\n",
       "      <td>ARON</td>\n",
       "      <td>USA</td>\n",
       "      <td>7359.0</td>\n",
       "      <td>0.657</td>\n",
       "      <td>0.0</td>\n",
       "      <td>...</td>\n",
       "      <td>1.0</td>\n",
       "      <td>1.554482</td>\n",
       "      <td>0.078066</td>\n",
       "      <td>0.032960</td>\n",
       "      <td>0.095449</td>\n",
       "      <td>0.057262</td>\n",
       "      <td>0.0</td>\n",
       "      <td>0.0</td>\n",
       "      <td>0.0</td>\n",
       "      <td>0.0</td>\n",
       "    </tr>\n",
       "    <tr>\n",
       "      <th>20</th>\n",
       "      <td>1076.0</td>\n",
       "      <td>2013</td>\n",
       "      <td>706688</td>\n",
       "      <td>0000706688-14-000015</td>\n",
       "      <td>10517.0</td>\n",
       "      <td>ARON</td>\n",
       "      <td>USA</td>\n",
       "      <td>7359.0</td>\n",
       "      <td>0.682</td>\n",
       "      <td>0.0</td>\n",
       "      <td>...</td>\n",
       "      <td>1.0</td>\n",
       "      <td>1.550014</td>\n",
       "      <td>0.078101</td>\n",
       "      <td>0.168805</td>\n",
       "      <td>0.066040</td>\n",
       "      <td>0.035188</td>\n",
       "      <td>0.0</td>\n",
       "      <td>0.0</td>\n",
       "      <td>0.0</td>\n",
       "      <td>0.0</td>\n",
       "    </tr>\n",
       "    <tr>\n",
       "      <th>21</th>\n",
       "      <td>1076.0</td>\n",
       "      <td>2014</td>\n",
       "      <td>706688</td>\n",
       "      <td>0000706688-15-000089</td>\n",
       "      <td>10517.0</td>\n",
       "      <td>ARON</td>\n",
       "      <td>USA</td>\n",
       "      <td>7359.0</td>\n",
       "      <td>0.706</td>\n",
       "      <td>0.0</td>\n",
       "      <td>...</td>\n",
       "      <td>1.0</td>\n",
       "      <td>1.403948</td>\n",
       "      <td>0.246691</td>\n",
       "      <td>-0.019929</td>\n",
       "      <td>0.031843</td>\n",
       "      <td>0.017694</td>\n",
       "      <td>0.0</td>\n",
       "      <td>0.0</td>\n",
       "      <td>0.0</td>\n",
       "      <td>0.0</td>\n",
       "    </tr>\n",
       "    <tr>\n",
       "      <th>22</th>\n",
       "      <td>1076.0</td>\n",
       "      <td>2015</td>\n",
       "      <td>706688</td>\n",
       "      <td>0000706688-16-000237</td>\n",
       "      <td>10517.0</td>\n",
       "      <td>ARON</td>\n",
       "      <td>USA</td>\n",
       "      <td>7359.0</td>\n",
       "      <td>0.752</td>\n",
       "      <td>0.0</td>\n",
       "      <td>...</td>\n",
       "      <td>1.0</td>\n",
       "      <td>1.097371</td>\n",
       "      <td>0.229590</td>\n",
       "      <td>0.062719</td>\n",
       "      <td>0.051040</td>\n",
       "      <td>0.029114</td>\n",
       "      <td>0.0</td>\n",
       "      <td>0.0</td>\n",
       "      <td>0.0</td>\n",
       "      <td>0.0</td>\n",
       "    </tr>\n",
       "    <tr>\n",
       "      <th>23</th>\n",
       "      <td>1076.0</td>\n",
       "      <td>2016</td>\n",
       "      <td>706688</td>\n",
       "      <td>0000706688-17-000030</td>\n",
       "      <td>10517.0</td>\n",
       "      <td>ARON</td>\n",
       "      <td>USA</td>\n",
       "      <td>7359.0</td>\n",
       "      <td>0.875</td>\n",
       "      <td>0.0</td>\n",
       "      <td>...</td>\n",
       "      <td>1.0</td>\n",
       "      <td>1.307392</td>\n",
       "      <td>0.190321</td>\n",
       "      <td>0.177940</td>\n",
       "      <td>0.053248</td>\n",
       "      <td>0.030255</td>\n",
       "      <td>0.0</td>\n",
       "      <td>0.0</td>\n",
       "      <td>0.0</td>\n",
       "      <td>0.0</td>\n",
       "    </tr>\n",
       "    <tr>\n",
       "      <th>...</th>\n",
       "      <td>...</td>\n",
       "      <td>...</td>\n",
       "      <td>...</td>\n",
       "      <td>...</td>\n",
       "      <td>...</td>\n",
       "      <td>...</td>\n",
       "      <td>...</td>\n",
       "      <td>...</td>\n",
       "      <td>...</td>\n",
       "      <td>...</td>\n",
       "      <td>...</td>\n",
       "      <td>...</td>\n",
       "      <td>...</td>\n",
       "      <td>...</td>\n",
       "      <td>...</td>\n",
       "      <td>...</td>\n",
       "      <td>...</td>\n",
       "      <td>...</td>\n",
       "      <td>...</td>\n",
       "      <td>...</td>\n",
       "      <td>...</td>\n",
       "    </tr>\n",
       "    <tr>\n",
       "      <th>35361</th>\n",
       "      <td>264509.0</td>\n",
       "      <td>2018</td>\n",
       "      <td>1283140</td>\n",
       "      <td>0001283140-19-000007</td>\n",
       "      <td>90253.0</td>\n",
       "      <td>HEPL</td>\n",
       "      <td>USA</td>\n",
       "      <td>4610.0</td>\n",
       "      <td>0.000</td>\n",
       "      <td>1.0</td>\n",
       "      <td>...</td>\n",
       "      <td>1.0</td>\n",
       "      <td>2.228957</td>\n",
       "      <td>0.674850</td>\n",
       "      <td>0.140408</td>\n",
       "      <td>0.085062</td>\n",
       "      <td>0.000012</td>\n",
       "      <td>0.0</td>\n",
       "      <td>0.0</td>\n",
       "      <td>0.0</td>\n",
       "      <td>0.0</td>\n",
       "    </tr>\n",
       "    <tr>\n",
       "      <th>35362</th>\n",
       "      <td>264509.0</td>\n",
       "      <td>2019</td>\n",
       "      <td>1283140</td>\n",
       "      <td>0001283140-20-000010</td>\n",
       "      <td>90253.0</td>\n",
       "      <td>HEPL</td>\n",
       "      <td>USA</td>\n",
       "      <td>4610.0</td>\n",
       "      <td>0.000</td>\n",
       "      <td>1.0</td>\n",
       "      <td>...</td>\n",
       "      <td>1.0</td>\n",
       "      <td>1.888671</td>\n",
       "      <td>0.699943</td>\n",
       "      <td>0.135075</td>\n",
       "      <td>0.102256</td>\n",
       "      <td>0.000019</td>\n",
       "      <td>0.0</td>\n",
       "      <td>0.0</td>\n",
       "      <td>0.0</td>\n",
       "      <td>0.0</td>\n",
       "    </tr>\n",
       "    <tr>\n",
       "      <th>35363</th>\n",
       "      <td>264509.0</td>\n",
       "      <td>2020</td>\n",
       "      <td>1283140</td>\n",
       "      <td>0001283140-21-000012</td>\n",
       "      <td>90253.0</td>\n",
       "      <td>HEPL</td>\n",
       "      <td>USA</td>\n",
       "      <td>4610.0</td>\n",
       "      <td>0.000</td>\n",
       "      <td>1.0</td>\n",
       "      <td>...</td>\n",
       "      <td>1.0</td>\n",
       "      <td>1.515766</td>\n",
       "      <td>0.683123</td>\n",
       "      <td>0.145614</td>\n",
       "      <td>0.078652</td>\n",
       "      <td>0.000077</td>\n",
       "      <td>0.0</td>\n",
       "      <td>0.0</td>\n",
       "      <td>0.0</td>\n",
       "      <td>0.0</td>\n",
       "    </tr>\n",
       "    <tr>\n",
       "      <th>35364</th>\n",
       "      <td>264509.0</td>\n",
       "      <td>2021</td>\n",
       "      <td>1283140</td>\n",
       "      <td>0001283140-22-000009</td>\n",
       "      <td>90253.0</td>\n",
       "      <td>HEPL</td>\n",
       "      <td>USA</td>\n",
       "      <td>4610.0</td>\n",
       "      <td>0.000</td>\n",
       "      <td>1.0</td>\n",
       "      <td>...</td>\n",
       "      <td>1.0</td>\n",
       "      <td>1.598231</td>\n",
       "      <td>0.648301</td>\n",
       "      <td>0.135786</td>\n",
       "      <td>0.099242</td>\n",
       "      <td>0.000015</td>\n",
       "      <td>0.0</td>\n",
       "      <td>0.0</td>\n",
       "      <td>0.0</td>\n",
       "      <td>0.0</td>\n",
       "    </tr>\n",
       "    <tr>\n",
       "      <th>35365</th>\n",
       "      <td>264509.0</td>\n",
       "      <td>2022</td>\n",
       "      <td>1283140</td>\n",
       "      <td>0001283140-23-000017</td>\n",
       "      <td>90253.0</td>\n",
       "      <td>HEPL</td>\n",
       "      <td>USA</td>\n",
       "      <td>4610.0</td>\n",
       "      <td>0.000</td>\n",
       "      <td>1.0</td>\n",
       "      <td>...</td>\n",
       "      <td>1.0</td>\n",
       "      <td>1.521917</td>\n",
       "      <td>0.591783</td>\n",
       "      <td>0.120491</td>\n",
       "      <td>0.078902</td>\n",
       "      <td>0.000040</td>\n",
       "      <td>0.0</td>\n",
       "      <td>0.0</td>\n",
       "      <td>0.0</td>\n",
       "      <td>0.0</td>\n",
       "    </tr>\n",
       "  </tbody>\n",
       "</table>\n",
       "<p>1724 rows × 45 columns</p>\n",
       "</div>"
      ],
      "text/plain": [
       "          gvkey  fyear      cik                  adsh   permno ibes_ticker  \\\n",
       "19       1076.0   2012   706688  0001193125-13-071592  10517.0        ARON   \n",
       "20       1076.0   2013   706688  0000706688-14-000015  10517.0        ARON   \n",
       "21       1076.0   2014   706688  0000706688-15-000089  10517.0        ARON   \n",
       "22       1076.0   2015   706688  0000706688-16-000237  10517.0        ARON   \n",
       "23       1076.0   2016   706688  0000706688-17-000030  10517.0        ARON   \n",
       "...         ...    ...      ...                   ...      ...         ...   \n",
       "35361  264509.0   2018  1283140  0001283140-19-000007  90253.0        HEPL   \n",
       "35362  264509.0   2019  1283140  0001283140-20-000010  90253.0        HEPL   \n",
       "35363  264509.0   2020  1283140  0001283140-21-000012  90253.0        HEPL   \n",
       "35364  264509.0   2021  1283140  0001283140-22-000009  90253.0        HEPL   \n",
       "35365  264509.0   2022  1283140  0001283140-23-000017  90253.0        HEPL   \n",
       "\n",
       "       fic     sic     va  zero_inferred  ...  profit       mtb       lev  \\\n",
       "19     USA  7359.0  0.657            0.0  ...     1.0  1.554482  0.078066   \n",
       "20     USA  7359.0  0.682            0.0  ...     1.0  1.550014  0.078101   \n",
       "21     USA  7359.0  0.706            0.0  ...     1.0  1.403948  0.246691   \n",
       "22     USA  7359.0  0.752            0.0  ...     1.0  1.097371  0.229590   \n",
       "23     USA  7359.0  0.875            0.0  ...     1.0  1.307392  0.190321   \n",
       "...    ...     ...    ...            ...  ...     ...       ...       ...   \n",
       "35361  USA  4610.0  0.000            1.0  ...     1.0  2.228957  0.674850   \n",
       "35362  USA  4610.0  0.000            1.0  ...     1.0  1.888671  0.699943   \n",
       "35363  USA  4610.0  0.000            1.0  ...     1.0  1.515766  0.683123   \n",
       "35364  USA  4610.0  0.000            1.0  ...     1.0  1.598231  0.648301   \n",
       "35365  USA  4610.0  0.000            1.0  ...     1.0  1.521917  0.591783   \n",
       "\n",
       "            cfo       roa       tax  pifo_d  txdfo_d  txfo_d  mne  \n",
       "19     0.032960  0.095449  0.057262     0.0      0.0     0.0  0.0  \n",
       "20     0.168805  0.066040  0.035188     0.0      0.0     0.0  0.0  \n",
       "21    -0.019929  0.031843  0.017694     0.0      0.0     0.0  0.0  \n",
       "22     0.062719  0.051040  0.029114     0.0      0.0     0.0  0.0  \n",
       "23     0.177940  0.053248  0.030255     0.0      0.0     0.0  0.0  \n",
       "...         ...       ...       ...     ...      ...     ...  ...  \n",
       "35361  0.140408  0.085062  0.000012     0.0      0.0     0.0  0.0  \n",
       "35362  0.135075  0.102256  0.000019     0.0      0.0     0.0  0.0  \n",
       "35363  0.145614  0.078652  0.000077     0.0      0.0     0.0  0.0  \n",
       "35364  0.135786  0.099242  0.000015     0.0      0.0     0.0  0.0  \n",
       "35365  0.120491  0.078902  0.000040     0.0      0.0     0.0  0.0  \n",
       "\n",
       "[1724 rows x 45 columns]"
      ]
     },
     "execution_count": 64,
     "metadata": {},
     "output_type": "execute_result"
    }
   ],
   "source": [
    "df"
   ]
  },
  {
   "cell_type": "code",
   "execution_count": 65,
   "id": "20640f5d",
   "metadata": {},
   "outputs": [
    {
     "data": {
      "text/plain": [
       "<Axes: xlabel='fyear'>"
      ]
     },
     "execution_count": 65,
     "metadata": {},
     "output_type": "execute_result"
    },
    {
     "data": {
      "image/png": "[encoded data removed]",
      "text/plain": [
       "<Figure size 640x480 with 1 Axes>"
      ]
     },
     "metadata": {},
     "output_type": "display_data"
    }
   ],
   "source": [
    "df.groupby('fyear')[['ln_va', 'ln_tlcf']].mean().plot()"
   ]
  }
 ],
 "metadata": {
  "kernelspec": {
   "display_name": "Python 3 (ipykernel)",
   "language": "python",
   "name": "python3"
  },
  "language_info": {
   "codemirror_mode": {
    "name": "ipython",
    "version": 3
   },
   "file_extension": ".py",
   "mimetype": "text/x-python",
   "name": "python",
   "nbconvert_exporter": "python",
   "pygments_lexer": "ipython3",
   "version": "3.11.5"
  }
 },
 "nbformat": 4,
 "nbformat_minor": 5
}
