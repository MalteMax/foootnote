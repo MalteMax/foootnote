{
 "cells": [
  {
   "cell_type": "code",
   "execution_count": 1,
   "id": "ba53b813",
   "metadata": {},
   "outputs": [],
   "source": [
    "import os, re, glob, requests, gzip, urllib.request, time, zipfile, shutil\n",
    "import numpy as np\n",
    "import pandas as pd\n",
    "from tqdm.notebook import tqdm_notebook as tqdm\n",
    "from bs4 import BeautifulSoup"
   ]
  },
  {
   "cell_type": "code",
   "execution_count": 2,
   "id": "fa386a30",
   "metadata": {},
   "outputs": [],
   "source": [
    "os.chdir('..')"
   ]
  },
  {
   "cell_type": "markdown",
   "id": "db122e77",
   "metadata": {},
   "source": [
    "---"
   ]
  },
  {
   "cell_type": "code",
   "execution_count": 3,
   "id": "a2dc4d2f",
   "metadata": {},
   "outputs": [],
   "source": [
    "pd.options.display.float_format = '{:.4f}'.format"
   ]
  },
  {
   "cell_type": "code",
   "execution_count": 4,
   "id": "a65137e2",
   "metadata": {},
   "outputs": [],
   "source": [
    "headers = {\"User-Agent\": \"jo boulement jo@gmx.at\"}"
   ]
  },
  {
   "cell_type": "code",
   "execution_count": 5,
   "id": "f2b7db19",
   "metadata": {},
   "outputs": [],
   "source": [
    "directory = '/Users/maltemax/Desktop/xbrl_instances'\n",
    "external = '/Volumes/T7 Shield/research_data/us_xbrl_instances'"
   ]
  },
  {
   "cell_type": "markdown",
   "id": "b08f7b51",
   "metadata": {},
   "source": [
    "---"
   ]
  },
  {
   "cell_type": "code",
   "execution_count": 62,
   "id": "c25a8689",
   "metadata": {
    "scrolled": false
   },
   "outputs": [
    {
     "name": "stderr",
     "output_type": "stream",
     "text": [
      "/var/folders/z4/0rcsgf6524x_7ns1b5_sllfm0000gn/T/ipykernel_68328/2288069100.py:1: DtypeWarning: Columns (19) have mixed types. Specify dtype option on import or set low_memory=False.\n",
      "  df = pd.read_csv(os.path.join(os.getcwd(), '3_pipeline', '1_intermediate', 'va_data_raw.tsv'),\n"
     ]
    }
   ],
   "source": [
    "df = pd.read_csv(os.path.join(os.getcwd(), '3_pipeline', '1_intermediate', 'va_data_raw.tsv'),\n",
    "                 sep = '\\t')"
   ]
  },
  {
   "cell_type": "code",
   "execution_count": 65,
   "id": "07097939",
   "metadata": {},
   "outputs": [],
   "source": [
    "df = df.drop_duplicates(subset = 'adsh')"
   ]
  },
  {
   "cell_type": "code",
   "execution_count": 57,
   "id": "a37c46d7",
   "metadata": {},
   "outputs": [],
   "source": [
    "files_desktop = [re.search('(.*?).xml', f)[1] for f in os.listdir(directory) if f.endswith('xml')]"
   ]
  },
  {
   "cell_type": "code",
   "execution_count": 58,
   "id": "8d86b409",
   "metadata": {},
   "outputs": [],
   "source": [
    "files_external = [re.search('(.*?).xml', f)[1] for f in os.listdir(external) if f.endswith('xml')]"
   ]
  },
  {
   "cell_type": "code",
   "execution_count": 59,
   "id": "780794f9",
   "metadata": {},
   "outputs": [],
   "source": [
    "files = files_external + files_desktop "
   ]
  },
  {
   "cell_type": "code",
   "execution_count": 60,
   "id": "f3eef1f9",
   "metadata": {},
   "outputs": [],
   "source": [
    "df = df.loc[~df['adsh'].isin(files)]"
   ]
  },
  {
   "cell_type": "code",
   "execution_count": 25,
   "id": "b866256e",
   "metadata": {
    "scrolled": false
   },
   "outputs": [
    {
     "data": {
      "application/vnd.jupyter.widget-view+json": {
       "model_id": "52f54757de4746bda3527bf8bca6538b",
       "version_major": 2,
       "version_minor": 0
      },
      "text/plain": [
       "  0%|          | 0/4563 [00:00<?, ?it/s]"
      ]
     },
     "metadata": {},
     "output_type": "display_data"
    }
   ],
   "source": [
    "for i, r in tqdm(df.iterrows(), total = len(df)):\n",
    "    content = requests.get(r['url_instance'], headers = headers).content\n",
    "    with open(os.path.join(directory, f'{r[\"adsh\"]}.xml'), 'wb') as file:\n",
    "        file.write(content)"
   ]
  },
  {
   "cell_type": "markdown",
   "id": "0e0bdacf",
   "metadata": {},
   "source": [
    "---"
   ]
  },
  {
   "cell_type": "code",
   "execution_count": 40,
   "id": "37c5cb14",
   "metadata": {},
   "outputs": [
    {
     "data": {
      "application/vnd.jupyter.widget-view+json": {
       "model_id": "3d0f0a54d6ac4eca9568e2aa4880aea1",
       "version_major": 2,
       "version_minor": 0
      },
      "text/plain": [
       "  0%|          | 0/4241 [00:00<?, ?it/s]"
      ]
     },
     "metadata": {},
     "output_type": "display_data"
    }
   ],
   "source": [
    "for file in tqdm([f for f in os.listdir('/Users/maltemax/Desktop/xbrl_instances') if f.endswith('xml')]):\n",
    "    shutil.move(f\"/Users/maltemax/Desktop/xbrl_instances/{file}\",\n",
    "                f\"/Volumes/T7 Shield/research_data/us_xbrl_instances/{file}\")"
   ]
  }
 ],
 "metadata": {
  "kernelspec": {
   "display_name": "Python 3 (ipykernel)",
   "language": "python",
   "name": "python3"
  },
  "language_info": {
   "codemirror_mode": {
    "name": "ipython",
    "version": 3
   },
   "file_extension": ".py",
   "mimetype": "text/x-python",
   "name": "python",
   "nbconvert_exporter": "python",
   "pygments_lexer": "ipython3",
   "version": "3.11.5"
  }
 },
 "nbformat": 4,
 "nbformat_minor": 5
}
