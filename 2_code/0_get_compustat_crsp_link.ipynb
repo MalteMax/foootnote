{
 "cells": [
  {
   "cell_type": "code",
   "execution_count": 1,
   "id": "0c3b7bee",
   "metadata": {},
   "outputs": [],
   "source": [
    "import os, re, wrds\n",
    "import numpy as np\n",
    "import pandas as pd\n",
    "from tqdm.notebook import tqdm_notebook as tqdm"
   ]
  },
  {
   "cell_type": "code",
   "execution_count": 2,
   "id": "70031d9c",
   "metadata": {},
   "outputs": [],
   "source": [
    "os.chdir('..')"
   ]
  },
  {
   "cell_type": "markdown",
   "id": "c2db92d5",
   "metadata": {},
   "source": [
    "---"
   ]
  },
  {
   "cell_type": "code",
   "execution_count": 3,
   "id": "c346f158",
   "metadata": {},
   "outputs": [
    {
     "name": "stdout",
     "output_type": "stream",
     "text": [
      "Enter your WRDS username [maltemax]:mmx900\n",
      "Enter your password:········\n",
      "WRDS recommends setting up a .pgpass file.\n",
      "Create .pgpass file now [y/n]?: n\n",
      "You can create this file yourself at any time with the create_pgpass_file() function.\n",
      "Loading library list...\n",
      "Done\n"
     ]
    }
   ],
   "source": [
    "db = wrds.Connection()"
   ]
  },
  {
   "cell_type": "code",
   "execution_count": 4,
   "id": "0085092c",
   "metadata": {},
   "outputs": [],
   "source": [
    "ccm = db.get_table(library = 'crsp_a_ccm', table = 'ccmxpf_lnkhist')"
   ]
  },
  {
   "cell_type": "markdown",
   "id": "04fc6e3b",
   "metadata": {},
   "source": [
    "following: https://iangow.github.io/far_book/identifiers.html"
   ]
  },
  {
   "cell_type": "markdown",
   "id": "ce78f1b0",
   "metadata": {},
   "source": [
    "\"One thing you will see is that there are cases where lpermno is NA, so “matching” these rows will result in non-matches, which is of no real value. The only value might be in determining whether the non-match has linktype of NR, which means that lack of a link has been “confirmed by research” (presumably by CRSP), or of NU, which means the link is “not yet confirmed” by research.\""
   ]
  },
  {
   "cell_type": "code",
   "execution_count": 5,
   "id": "62f8fd45",
   "metadata": {},
   "outputs": [],
   "source": [
    "ccm = ccm.loc[ccm['lpermno'].notna()]"
   ]
  },
  {
   "cell_type": "markdown",
   "id": "915e0161",
   "metadata": {},
   "source": [
    "\"The cases where linktype is LD represent cases where two GVKEYs map to a single PERMNO at the same time and, according to WRDS, “this link should not be used.” Here is one example:\""
   ]
  },
  {
   "cell_type": "code",
   "execution_count": 6,
   "id": "24bc3f2d",
   "metadata": {},
   "outputs": [],
   "source": [
    "ccm = ccm.loc[ccm['linktype'] != 'LD']"
   ]
  },
  {
   "cell_type": "markdown",
   "id": "c31b37e3",
   "metadata": {},
   "source": [
    "\"The cases where linktype is LX represent cases where the security referred to on Compustat is one that trades on a foreign exchange and CRSP is merely “helpfully” linking to a different security that *is* found on CRSP. \""
   ]
  },
  {
   "cell_type": "code",
   "execution_count": 7,
   "id": "6d5ed356",
   "metadata": {},
   "outputs": [],
   "source": [
    "ccm = ccm.loc[ccm['linktype'] != \"LX\"]"
   ]
  },
  {
   "cell_type": "markdown",
   "id": "cd81e83e",
   "metadata": {},
   "source": [
    "\"The remaining category for discussion is where linktype is LN. These are cases where a link exists, but Compustat does not have price data to allow CRSP to check the quality of the link. While researcher discretion might be used to include these, most researchers appear to exclude these cases and we will do likewise. Given the above, we are only including cases where linktype is in LC (valid, researched link), LU (unresearched link), or LS (link valid for this lpermno only).\""
   ]
  },
  {
   "cell_type": "code",
   "execution_count": 8,
   "id": "3330e79a",
   "metadata": {},
   "outputs": [],
   "source": [
    "ccm = ccm.loc[ccm['linktype'] != \"LN\"]"
   ]
  },
  {
   "cell_type": "markdown",
   "id": "768f930a",
   "metadata": {},
   "source": [
    "\"Now, let’s consider, linkprim, which WRDS explains as follows:\n",
    "\n",
    "`linkprim clarifies the link’s relationship to Compustat’s marked primary security within the related range. “P” indicates a primary link marker, as identified by Compustat in monthly security data. “C” indicates a primary link marker, as identified by CRSP to resolve ranges of overlapping or missing primary markers from Compustat in order to produce one primary security throughout the company history. “J” indicates a joiner secondary issue of a company, identified by Compustat in monthly security data.`\n",
    "\n",
    "\n",
    "This suggests we should omit cases where linkprim equals J. Given that cases where linkprim equals N are duplicated links due to the existence of Canadian securities for a US-traded firm, we will exclude these too.\""
   ]
  },
  {
   "cell_type": "code",
   "execution_count": 9,
   "id": "452fb715",
   "metadata": {},
   "outputs": [],
   "source": [
    "ccm = ccm.loc[ccm['linkprim'].isin(['C', 'P'])]"
   ]
  },
  {
   "cell_type": "markdown",
   "id": "1d4f45ad",
   "metadata": {},
   "source": [
    "from here on, own code:"
   ]
  },
  {
   "cell_type": "code",
   "execution_count": 11,
   "id": "77177665",
   "metadata": {},
   "outputs": [],
   "source": [
    "ccm['date_from'], ccm['date_to'] = pd.to_datetime(ccm['linkdt']), pd.to_datetime(ccm['linkenddt'])\n",
    "\n",
    "ccm['fyear_from'] = np.where(ccm['date_from'].dt.month <= 6,\n",
    "                            ccm['date_from'].dt.year,\n",
    "                            ccm['date_from'].dt.year + 1)\n",
    "\n",
    "ccm['fyear_to'] = np.where(ccm['date_to'].dt.month <= 6,\n",
    "                          ccm['date_to'].dt.year - 1,\n",
    "                          ccm['date_to'].dt.year)"
   ]
  },
  {
   "cell_type": "code",
   "execution_count": 12,
   "id": "fb9a7d9f",
   "metadata": {},
   "outputs": [],
   "source": [
    "ccm = ccm.loc[~(ccm['fyear_from'] > ccm['fyear_to'])].reset_index(drop = True)"
   ]
  },
  {
   "cell_type": "code",
   "execution_count": 13,
   "id": "2dcc3293",
   "metadata": {},
   "outputs": [],
   "source": [
    "ccm['fyear_to'] = ccm['fyear_to'].fillna(2024)"
   ]
  },
  {
   "cell_type": "code",
   "execution_count": 14,
   "id": "e1cf153e",
   "metadata": {},
   "outputs": [],
   "source": [
    "ccm = ccm[['gvkey', 'lpermno', 'fyear_from', 'fyear_to']]"
   ]
  },
  {
   "cell_type": "code",
   "execution_count": 15,
   "id": "6ec090e7",
   "metadata": {},
   "outputs": [],
   "source": [
    "between = ccm.to_dict(orient = 'index')"
   ]
  },
  {
   "cell_type": "code",
   "execution_count": 16,
   "id": "74591a6e",
   "metadata": {},
   "outputs": [],
   "source": [
    "in_between = []\n",
    "\n",
    "for k, v in between.items():\n",
    "    in_between.append([i for i in range(int(v['fyear_from']), int(v['fyear_to']) + 1)])"
   ]
  },
  {
   "cell_type": "code",
   "execution_count": 17,
   "id": "0cf2d89b",
   "metadata": {},
   "outputs": [],
   "source": [
    "ccm['fyear'] = pd.Series(in_between)"
   ]
  },
  {
   "cell_type": "code",
   "execution_count": 18,
   "id": "c6e27e33",
   "metadata": {},
   "outputs": [],
   "source": [
    "ccm = ccm.explode('fyear')"
   ]
  },
  {
   "cell_type": "code",
   "execution_count": 19,
   "id": "693b76b1",
   "metadata": {},
   "outputs": [],
   "source": [
    "ccm = ccm.drop(columns = ['fyear_from', 'fyear_to'])"
   ]
  },
  {
   "cell_type": "code",
   "execution_count": 21,
   "id": "7df16a98",
   "metadata": {},
   "outputs": [],
   "source": [
    "ccm.to_csv(os.path.join(os.getcwd(), '1_data', 'compustat_crsp_link.tsv'),\n",
    "           sep = '\\t', index = False)"
   ]
  }
 ],
 "metadata": {
  "kernelspec": {
   "display_name": "Python 3 (ipykernel)",
   "language": "python",
   "name": "python3"
  },
  "language_info": {
   "codemirror_mode": {
    "name": "ipython",
    "version": 3
   },
   "file_extension": ".py",
   "mimetype": "text/x-python",
   "name": "python",
   "nbconvert_exporter": "python",
   "pygments_lexer": "ipython3",
   "version": "3.11.5"
  }
 },
 "nbformat": 4,
 "nbformat_minor": 5
}
