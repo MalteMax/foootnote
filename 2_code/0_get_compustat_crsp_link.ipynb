{
 "cells": [
  {
   "cell_type": "code",
   "execution_count": 1,
   "id": "0c3b7bee",
   "metadata": {},
   "outputs": [],
   "source": [
    "import os, re, wrds\n",
    "import numpy as np\n",
    "import pandas as pd\n",
    "from tqdm.notebook import tqdm_notebook as tqdm"
   ]
  },
  {
   "cell_type": "code",
   "execution_count": 2,
   "id": "70031d9c",
   "metadata": {},
   "outputs": [],
   "source": [
    "os.chdir('..')"
   ]
  },
  {
   "cell_type": "markdown",
   "id": "c2db92d5",
   "metadata": {},
   "source": [
    "---"
   ]
  },
  {
   "cell_type": "code",
   "execution_count": null,
   "id": "c346f158",
   "metadata": {},
   "outputs": [],
   "source": [
    "db = wrds.Connection()"
   ]
  },
  {
   "cell_type": "code",
   "execution_count": 53,
   "id": "0085092c",
   "metadata": {},
   "outputs": [],
   "source": [
    "ccm = db.get_table(library = 'crsp_a_ccm', table = 'ccmxpf_lnkhist')"
   ]
  },
  {
   "cell_type": "markdown",
   "id": "04fc6e3b",
   "metadata": {},
   "source": [
    "following: https://iangow.github.io/far_book/identifiers.html"
   ]
  },
  {
   "cell_type": "markdown",
   "id": "ce78f1b0",
   "metadata": {},
   "source": [
    "\"One thing you will see is that there are cases where lpermno is NA, so “matching” these rows will result in non-matches, which is of no real value. The only value might be in determining whether the non-match has linktype of NR, which means that lack of a link has been “confirmed by research” (presumably by CRSP), or of NU, which means the link is “not yet confirmed” by research.\""
   ]
  },
  {
   "cell_type": "code",
   "execution_count": 54,
   "id": "62f8fd45",
   "metadata": {},
   "outputs": [],
   "source": [
    "ccm = ccm.loc[ccm['lpermno'].notna()]"
   ]
  },
  {
   "cell_type": "markdown",
   "id": "915e0161",
   "metadata": {},
   "source": [
    "\"The cases where linktype is LD represent cases where two GVKEYs map to a single PERMNO at the same time and, according to WRDS, “this link should not be used.” Here is one example:\""
   ]
  },
  {
   "cell_type": "code",
   "execution_count": 55,
   "id": "24bc3f2d",
   "metadata": {},
   "outputs": [],
   "source": [
    "ccm = ccm.loc[ccm['linktype'] != 'LD']"
   ]
  },
  {
   "cell_type": "markdown",
   "id": "c31b37e3",
   "metadata": {},
   "source": [
    "\"The cases where linktype is LX represent cases where the security referred to on Compustat is one that trades on a foreign exchange and CRSP is merely “helpfully” linking to a different security that *is* found on CRSP. \""
   ]
  },
  {
   "cell_type": "code",
   "execution_count": 56,
   "id": "6d5ed356",
   "metadata": {},
   "outputs": [],
   "source": [
    "ccm = ccm.loc[ccm['linktype'] != \"LX\"]"
   ]
  },
  {
   "cell_type": "markdown",
   "id": "cd81e83e",
   "metadata": {},
   "source": [
    "\"The remaining category for discussion is where linktype is LN. These are cases where a link exists, but Compustat does not have price data to allow CRSP to check the quality of the link. While researcher discretion might be used to include these, most researchers appear to exclude these cases and we will do likewise. Given the above, we are only including cases where linktype is in LC (valid, researched link), LU (unresearched link), or LS (link valid for this lpermno only).\""
   ]
  },
  {
   "cell_type": "code",
   "execution_count": 57,
   "id": "3330e79a",
   "metadata": {},
   "outputs": [],
   "source": [
    "ccm = ccm.loc[ccm['linktype'] != \"LN\"]"
   ]
  },
  {
   "cell_type": "markdown",
   "id": "768f930a",
   "metadata": {},
   "source": [
    "\"Now, let’s consider, linkprim, which WRDS explains as follows:\n",
    "\n",
    "`linkprim clarifies the link’s relationship to Compustat’s marked primary security within the related range. “P” indicates a primary link marker, as identified by Compustat in monthly security data. “C” indicates a primary link marker, as identified by CRSP to resolve ranges of overlapping or missing primary markers from Compustat in order to produce one primary security throughout the company history. “J” indicates a joiner secondary issue of a company, identified by Compustat in monthly security data.`\n",
    "\n",
    "\n",
    "This suggests we should omit cases where linkprim equals J. Given that cases where linkprim equals N are duplicated links due to the existence of Canadian securities for a US-traded firm, we will exclude these too.\""
   ]
  },
  {
   "cell_type": "code",
   "execution_count": 58,
   "id": "452fb715",
   "metadata": {},
   "outputs": [],
   "source": [
    "ccm = ccm.loc[ccm['linkprim'].isin(['C', 'P'])]"
   ]
  },
  {
   "cell_type": "markdown",
   "id": "1d4f45ad",
   "metadata": {},
   "source": [
    "from here on, own code:"
   ]
  },
  {
   "cell_type": "code",
   "execution_count": 59,
   "id": "d33a1cd9",
   "metadata": {},
   "outputs": [
    {
     "data": {
      "text/html": [
       "<div>\n",
       "<style scoped>\n",
       "    .dataframe tbody tr th:only-of-type {\n",
       "        vertical-align: middle;\n",
       "    }\n",
       "\n",
       "    .dataframe tbody tr th {\n",
       "        vertical-align: top;\n",
       "    }\n",
       "\n",
       "    .dataframe thead th {\n",
       "        text-align: right;\n",
       "    }\n",
       "</style>\n",
       "<table border=\"1\" class=\"dataframe\">\n",
       "  <thead>\n",
       "    <tr style=\"text-align: right;\">\n",
       "      <th></th>\n",
       "      <th>gvkey</th>\n",
       "      <th>linkprim</th>\n",
       "      <th>liid</th>\n",
       "      <th>linktype</th>\n",
       "      <th>lpermno</th>\n",
       "      <th>lpermco</th>\n",
       "      <th>linkdt</th>\n",
       "      <th>linkenddt</th>\n",
       "    </tr>\n",
       "  </thead>\n",
       "  <tbody>\n",
       "    <tr>\n",
       "      <th>2</th>\n",
       "      <td>001000</td>\n",
       "      <td>P</td>\n",
       "      <td>01</td>\n",
       "      <td>LU</td>\n",
       "      <td>25881.0</td>\n",
       "      <td>23369.0</td>\n",
       "      <td>1970-11-13</td>\n",
       "      <td>1978-06-30</td>\n",
       "    </tr>\n",
       "    <tr>\n",
       "      <th>4</th>\n",
       "      <td>001001</td>\n",
       "      <td>P</td>\n",
       "      <td>01</td>\n",
       "      <td>LU</td>\n",
       "      <td>10015.0</td>\n",
       "      <td>6398.0</td>\n",
       "      <td>1983-09-20</td>\n",
       "      <td>1986-07-31</td>\n",
       "    </tr>\n",
       "    <tr>\n",
       "      <th>8</th>\n",
       "      <td>001002</td>\n",
       "      <td>C</td>\n",
       "      <td>01</td>\n",
       "      <td>LC</td>\n",
       "      <td>10023.0</td>\n",
       "      <td>22159.0</td>\n",
       "      <td>1972-12-14</td>\n",
       "      <td>1973-06-05</td>\n",
       "    </tr>\n",
       "    <tr>\n",
       "      <th>11</th>\n",
       "      <td>001003</td>\n",
       "      <td>C</td>\n",
       "      <td>01</td>\n",
       "      <td>LU</td>\n",
       "      <td>10031.0</td>\n",
       "      <td>6672.0</td>\n",
       "      <td>1983-12-07</td>\n",
       "      <td>1989-08-16</td>\n",
       "    </tr>\n",
       "    <tr>\n",
       "      <th>14</th>\n",
       "      <td>001004</td>\n",
       "      <td>P</td>\n",
       "      <td>01</td>\n",
       "      <td>LU</td>\n",
       "      <td>54594.0</td>\n",
       "      <td>20000.0</td>\n",
       "      <td>1972-04-24</td>\n",
       "      <td>None</td>\n",
       "    </tr>\n",
       "  </tbody>\n",
       "</table>\n",
       "</div>"
      ],
      "text/plain": [
       "     gvkey linkprim liid linktype  lpermno  lpermco      linkdt   linkenddt\n",
       "2   001000        P   01       LU  25881.0  23369.0  1970-11-13  1978-06-30\n",
       "4   001001        P   01       LU  10015.0   6398.0  1983-09-20  1986-07-31\n",
       "8   001002        C   01       LC  10023.0  22159.0  1972-12-14  1973-06-05\n",
       "11  001003        C   01       LU  10031.0   6672.0  1983-12-07  1989-08-16\n",
       "14  001004        P   01       LU  54594.0  20000.0  1972-04-24        None"
      ]
     },
     "execution_count": 59,
     "metadata": {},
     "output_type": "execute_result"
    }
   ],
   "source": [
    "ccm.head()"
   ]
  },
  {
   "cell_type": "code",
   "execution_count": 60,
   "id": "77177665",
   "metadata": {},
   "outputs": [],
   "source": [
    "ccm['date_from'], ccm['date_to'] = pd.to_datetime(ccm['linkdt']), pd.to_datetime(ccm['linkenddt'])\n",
    "\n",
    "ccm['fyear_from'] = np.where(ccm['date_from'].dt.month <= 6,\n",
    "                            ccm['date_from'].dt.year,\n",
    "                            ccm['date_from'].dt.year + 1)\n",
    "\n",
    "ccm['fyear_to'] = np.where(ccm['date_to'].dt.month <= 6,\n",
    "                          ccm['date_to'].dt.year - 1,\n",
    "                          ccm['date_to'].dt.year)"
   ]
  },
  {
   "cell_type": "code",
   "execution_count": 65,
   "id": "fb9a7d9f",
   "metadata": {},
   "outputs": [],
   "source": [
    "ccm = ccm.loc[~(ccm['fyear_from'] > ccm['fyear_to'])].reset_index(drop = True)"
   ]
  },
  {
   "cell_type": "code",
   "execution_count": 67,
   "id": "2dcc3293",
   "metadata": {},
   "outputs": [],
   "source": [
    "ccm['fyear_to'] = ccm['fyear_to'].fillna(2024)"
   ]
  },
  {
   "cell_type": "code",
   "execution_count": 71,
   "id": "e1cf153e",
   "metadata": {},
   "outputs": [],
   "source": [
    "ccm = ccm[['gvkey', 'lpermno', 'fyear_from', 'fyear_to']]"
   ]
  },
  {
   "cell_type": "code",
   "execution_count": 74,
   "id": "6ec090e7",
   "metadata": {},
   "outputs": [],
   "source": [
    "between = ccm.to_dict(orient = 'index')"
   ]
  },
  {
   "cell_type": "code",
   "execution_count": 76,
   "id": "74591a6e",
   "metadata": {},
   "outputs": [],
   "source": [
    "in_between = []\n",
    "\n",
    "for k, v in between.items():\n",
    "    in_between.append([i for i in range(int(v['fyear_from']), int(v['fyear_to']) + 1)])"
   ]
  },
  {
   "cell_type": "code",
   "execution_count": 78,
   "id": "0cf2d89b",
   "metadata": {},
   "outputs": [
    {
     "name": "stderr",
     "output_type": "stream",
     "text": [
      "/var/folders/z4/0rcsgf6524x_7ns1b5_sllfm0000gn/T/ipykernel_58373/378980053.py:1: SettingWithCopyWarning: \n",
      "A value is trying to be set on a copy of a slice from a DataFrame.\n",
      "Try using .loc[row_indexer,col_indexer] = value instead\n",
      "\n",
      "See the caveats in the documentation: https://pandas.pydata.org/pandas-docs/stable/user_guide/indexing.html#returning-a-view-versus-a-copy\n",
      "  ccm['fyear'] = pd.Series(in_between)\n"
     ]
    }
   ],
   "source": [
    "ccm['fyear'] = pd.Series(in_between)"
   ]
  },
  {
   "cell_type": "code",
   "execution_count": 80,
   "id": "c6e27e33",
   "metadata": {},
   "outputs": [],
   "source": [
    "ccm = ccm.explode('fyear')"
   ]
  },
  {
   "cell_type": "code",
   "execution_count": 82,
   "id": "693b76b1",
   "metadata": {},
   "outputs": [],
   "source": [
    "ccm = ccm.drop(columns = ['fyear_from', 'fyear_to'])"
   ]
  },
  {
   "cell_type": "code",
   "execution_count": 90,
   "id": "7df16a98",
   "metadata": {},
   "outputs": [],
   "source": [
    "ccm.to_csv(os.path.join(os.getcwd(), '1_data', 'compustat_crsp_link.tsv'),\n",
    "           sep = '\\t', index = False)"
   ]
  }
 ],
 "metadata": {
  "kernelspec": {
   "display_name": "Python 3 (ipykernel)",
   "language": "python",
   "name": "python3"
  },
  "language_info": {
   "codemirror_mode": {
    "name": "ipython",
    "version": 3
   },
   "file_extension": ".py",
   "mimetype": "text/x-python",
   "name": "python",
   "nbconvert_exporter": "python",
   "pygments_lexer": "ipython3",
   "version": "3.11.5"
  }
 },
 "nbformat": 4,
 "nbformat_minor": 5
}
