{
 "cells": [
  {
   "cell_type": "code",
   "execution_count": 1,
   "id": "0c783ecd",
   "metadata": {},
   "outputs": [],
   "source": [
    "import os, re\n",
    "import numpy as np\n",
    "import pandas as pd\n",
    "from tqdm.notebook import tqdm_notebook as tqdm\n",
    "import matplotlib.pyplot as plt"
   ]
  },
  {
   "cell_type": "code",
   "execution_count": 2,
   "id": "1e7088f3",
   "metadata": {},
   "outputs": [],
   "source": [
    "os.chdir('..')"
   ]
  },
  {
   "cell_type": "markdown",
   "id": "3e9d1be3",
   "metadata": {},
   "source": [
    "---"
   ]
  },
  {
   "cell_type": "code",
   "execution_count": 105,
   "id": "62ba2f1a",
   "metadata": {},
   "outputs": [],
   "source": [
    "df = pd.read_csv(os.path.join(os.getcwd(), '3_pipeline', '1_intermediate', 'sample_raw.tsv'),\n",
    "                 sep = '\\t')"
   ]
  },
  {
   "cell_type": "code",
   "execution_count": 106,
   "id": "e4e62d64",
   "metadata": {},
   "outputs": [],
   "source": [
    "df = df.sort_values(by = ['gvkey', 'fyear'])"
   ]
  },
  {
   "cell_type": "markdown",
   "id": "c4e31b10",
   "metadata": {},
   "source": [
    "create loss sequence variable"
   ]
  },
  {
   "cell_type": "code",
   "execution_count": 107,
   "id": "6edd0354",
   "metadata": {},
   "outputs": [],
   "source": [
    "# first create variable to check whether years are consecutive\n",
    "df['L1_fyear'] = df.groupby('gvkey')['fyear'].shift(1)\n",
    "df['is_year_cons'] = np.where((df['fyear'] - df['L1_fyear']) == 1, 1, 0)"
   ]
  },
  {
   "cell_type": "code",
   "execution_count": 108,
   "id": "f757b917",
   "metadata": {},
   "outputs": [],
   "source": [
    "out = []\n",
    "loss_count = 0\n",
    "\n",
    "for i, r in df.iterrows():\n",
    "    if r['is_year_cons'] == 0:\n",
    "        loss_count = 0\n",
    "    elif pd.isnull(r['ib']):\n",
    "        loss_count = 0\n",
    "    elif r['ib'] >= 0:\n",
    "        loss_count = 0\n",
    "    elif r['ib'] < 0:\n",
    "        loss_count += 1\n",
    "    \n",
    "    # only append from second loss onwards (otherwise 'sequential' doesn't really make sense?)\n",
    "    # and: there is also a firstloss dummy in the data that captures the first instance of a loss\n",
    "    loss_count_to_append = 0 if loss_count == 1 else loss_count\n",
    "    \n",
    "    out.append(loss_count_to_append)"
   ]
  },
  {
   "cell_type": "code",
   "execution_count": 109,
   "id": "9b2eb51d",
   "metadata": {},
   "outputs": [],
   "source": [
    "df['lossseq'] = out"
   ]
  },
  {
   "cell_type": "code",
   "execution_count": 110,
   "id": "245a22e2",
   "metadata": {},
   "outputs": [],
   "source": [
    "df['lossseq'] = np.where(df['ib'].isna(), np.nan, df['lossseq'])"
   ]
  },
  {
   "cell_type": "markdown",
   "id": "a6edd0fd",
   "metadata": {},
   "source": [
    "create two-digit SIC"
   ]
  },
  {
   "cell_type": "code",
   "execution_count": 111,
   "id": "ff016c41",
   "metadata": {},
   "outputs": [],
   "source": [
    "# drop if hsic is missing (very few obs)\n",
    "df = df.loc[df['hsic'].notna()]"
   ]
  },
  {
   "cell_type": "code",
   "execution_count": 112,
   "id": "6647605a",
   "metadata": {},
   "outputs": [],
   "source": [
    "df['sic_group'] = df['hsic'].astype(int).astype(str).str.zfill(4).str[:2].astype(int)"
   ]
  },
  {
   "cell_type": "code",
   "execution_count": 113,
   "id": "fb8a4827",
   "metadata": {},
   "outputs": [],
   "source": [
    "df.to_stata(os.path.join(os.getcwd(), '3_pipeline', '1_intermediate', 'sample_dhaliwal.dta'),\n",
    "            write_index = False)"
   ]
  }
 ],
 "metadata": {
  "kernelspec": {
   "display_name": "Python 3 (ipykernel)",
   "language": "python",
   "name": "python3"
  },
  "language_info": {
   "codemirror_mode": {
    "name": "ipython",
    "version": 3
   },
   "file_extension": ".py",
   "mimetype": "text/x-python",
   "name": "python",
   "nbconvert_exporter": "python",
   "pygments_lexer": "ipython3",
   "version": "3.11.5"
  }
 },
 "nbformat": 4,
 "nbformat_minor": 5
}
