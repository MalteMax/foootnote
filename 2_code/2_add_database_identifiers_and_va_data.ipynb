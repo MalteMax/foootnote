{
 "cells": [
  {
   "cell_type": "code",
   "execution_count": 1,
   "id": "e87c616b",
   "metadata": {},
   "outputs": [],
   "source": [
    "import os, re\n",
    "import numpy as np\n",
    "import pandas as pd"
   ]
  },
  {
   "cell_type": "code",
   "execution_count": 2,
   "id": "8ef6afa1",
   "metadata": {},
   "outputs": [],
   "source": [
    "os.chdir('..')"
   ]
  },
  {
   "cell_type": "markdown",
   "id": "ea509e8b",
   "metadata": {},
   "source": [
    "---"
   ]
  },
  {
   "cell_type": "code",
   "execution_count": 99,
   "id": "0a92d9e7",
   "metadata": {},
   "outputs": [],
   "source": [
    "df = pd.read_csv(os.path.join(os.getcwd(), '3_pipeline', '1_intermediate', 'compustat.tsv'),\n",
    "                 sep = '\\t')"
   ]
  },
  {
   "cell_type": "markdown",
   "id": "775ad2a2",
   "metadata": {},
   "source": [
    "add historic header variables"
   ]
  },
  {
   "cell_type": "code",
   "execution_count": 100,
   "id": "2e3b96cf",
   "metadata": {},
   "outputs": [],
   "source": [
    "comphist = pd.read_csv(os.path.join(os.getcwd(), '3_pipeline', '1_intermediate', 'comphist_prepared.tsv'),\n",
    "                       sep = '\\t')"
   ]
  },
  {
   "cell_type": "code",
   "execution_count": 101,
   "id": "7a8ec900",
   "metadata": {},
   "outputs": [],
   "source": [
    "df = df.merge(right = comphist, on = ['gvkey', 'fyear'], how = 'left')"
   ]
  },
  {
   "cell_type": "markdown",
   "id": "e899293c",
   "metadata": {},
   "source": [
    "add header variables and replace missing values on the historic variables by the header; then drop header variables"
   ]
  },
  {
   "cell_type": "code",
   "execution_count": 102,
   "id": "dfd33c10",
   "metadata": {},
   "outputs": [],
   "source": [
    "comp_header = pd.read_csv(os.path.join(os.getcwd(), '3_pipeline', '1_intermediate', 'compustat_header.tsv'),\n",
    "                          sep = '\\t')\n",
    "comp_header = comp_header.drop(columns = 'loc')"
   ]
  },
  {
   "cell_type": "code",
   "execution_count": 103,
   "id": "7f0f3537",
   "metadata": {},
   "outputs": [],
   "source": [
    "df = df.merge(right = comp_header, on = 'gvkey', how = 'left')"
   ]
  },
  {
   "cell_type": "code",
   "execution_count": 104,
   "id": "f7611362",
   "metadata": {},
   "outputs": [],
   "source": [
    "for var in ['fic', 'sic', 'cik']:\n",
    "    df[f'h{var}'] = df[f'h{var}'].fillna(df[var])"
   ]
  },
  {
   "cell_type": "code",
   "execution_count": 105,
   "id": "b9d372b6",
   "metadata": {},
   "outputs": [],
   "source": [
    "df = df.drop(columns = ['fic', 'sic', 'cik'])"
   ]
  },
  {
   "cell_type": "markdown",
   "id": "14228d1b",
   "metadata": {},
   "source": [
    "add CRSP PERMNO (based on CCM)"
   ]
  },
  {
   "cell_type": "code",
   "execution_count": 106,
   "id": "b0fddae1",
   "metadata": {},
   "outputs": [],
   "source": [
    "ccm = pd.read_csv(os.path.join(os.getcwd(), '1_data', 'compustat_crsp_link.tsv'),\n",
    "                  sep = '\\t')"
   ]
  },
  {
   "cell_type": "code",
   "execution_count": 107,
   "id": "e313a99a",
   "metadata": {},
   "outputs": [],
   "source": [
    "df = df.merge(right = ccm, on = ['gvkey', 'fyear'], how = 'left')"
   ]
  },
  {
   "cell_type": "code",
   "execution_count": 108,
   "id": "f01bff27",
   "metadata": {},
   "outputs": [],
   "source": [
    "df = df.rename(columns = {'lpermno' : 'permno'})"
   ]
  },
  {
   "cell_type": "markdown",
   "id": "3bd1b55c",
   "metadata": {},
   "source": [
    "add IBES ticker (based on CRSP-IBES link)"
   ]
  },
  {
   "cell_type": "code",
   "execution_count": 109,
   "id": "88583cbd",
   "metadata": {},
   "outputs": [],
   "source": [
    "ibes = pd.read_csv(os.path.join(os.getcwd(), '3_pipeline', '1_intermediate', 'crsp_ibes_link_final.tsv'),\n",
    "                   sep = '\\t')"
   ]
  },
  {
   "cell_type": "code",
   "execution_count": 110,
   "id": "9a5dbdeb",
   "metadata": {},
   "outputs": [],
   "source": [
    "ibes = ibes.rename(columns = {'ticker' : 'ibes_ticker'})"
   ]
  },
  {
   "cell_type": "code",
   "execution_count": 111,
   "id": "edfd612c",
   "metadata": {},
   "outputs": [],
   "source": [
    "df = df.merge(right = ibes, on = ['permno', 'fyear'], how = 'left')"
   ]
  },
  {
   "cell_type": "markdown",
   "id": "51fb53b5",
   "metadata": {},
   "source": [
    "load VA data and merge to the Compustat records; using the cik-fyear"
   ]
  },
  {
   "cell_type": "code",
   "execution_count": 112,
   "id": "c7571d45",
   "metadata": {},
   "outputs": [],
   "source": [
    "va_info = pd.read_csv(os.path.join(os.getcwd(), '3_pipeline', '1_intermediate', 'va_data_info.tsv'),\n",
    "                      sep = '\\t')"
   ]
  },
  {
   "cell_type": "code",
   "execution_count": 113,
   "id": "c2516874",
   "metadata": {},
   "outputs": [],
   "source": [
    "va_info = va_info.drop_duplicates(subset = ['cik', 'fyear'])"
   ]
  },
  {
   "cell_type": "code",
   "execution_count": 114,
   "id": "95b36fad",
   "metadata": {},
   "outputs": [],
   "source": [
    "va_info = va_info.rename(columns = {'cik' : 'hcik', 'sic' : 'sic_from_sec'})"
   ]
  },
  {
   "cell_type": "code",
   "execution_count": 115,
   "id": "a5a73918",
   "metadata": {},
   "outputs": [],
   "source": [
    "df = df.merge(right = va_info, on = ['hcik', 'fyear'], how = 'left')"
   ]
  },
  {
   "cell_type": "markdown",
   "id": "d9b596ac",
   "metadata": {},
   "source": [
    "add valuation allowance data"
   ]
  },
  {
   "cell_type": "code",
   "execution_count": 116,
   "id": "c5cfd2d8",
   "metadata": {},
   "outputs": [],
   "source": [
    "va = pd.read_csv(os.path.join(os.getcwd(), '3_pipeline', '1_intermediate', 'va_data_clean.tsv'),\n",
    "                 sep = '\\t')"
   ]
  },
  {
   "cell_type": "code",
   "execution_count": 117,
   "id": "ae61e458",
   "metadata": {},
   "outputs": [],
   "source": [
    "df = df.merge(right = va[['adsh', 'tag', 'va', 'zero_inferred']], on = 'adsh', how = 'left')"
   ]
  },
  {
   "cell_type": "markdown",
   "id": "fa0e7100",
   "metadata": {},
   "source": [
    "add DTA (gross)"
   ]
  },
  {
   "cell_type": "code",
   "execution_count": 118,
   "id": "feff9b4d",
   "metadata": {},
   "outputs": [],
   "source": [
    "dta = pd.read_csv(os.path.join(os.getcwd(), '3_pipeline', '1_intermediate', 'dta_gross.tsv'),\n",
    "                  sep = '\\t')"
   ]
  },
  {
   "cell_type": "code",
   "execution_count": 120,
   "id": "836f4e28",
   "metadata": {},
   "outputs": [],
   "source": [
    "df = df.merge(right = dta, on = 'adsh', how = 'left')"
   ]
  },
  {
   "cell_type": "markdown",
   "id": "ce27872a",
   "metadata": {},
   "source": [
    "save to disk"
   ]
  },
  {
   "cell_type": "code",
   "execution_count": 122,
   "id": "c134ce43",
   "metadata": {},
   "outputs": [],
   "source": [
    "df.to_csv(os.path.join(os.getcwd(), '3_pipeline', '1_intermediate', 'sample_raw.tsv'),\n",
    "          sep = '\\t', index = False)"
   ]
  },
  {
   "cell_type": "markdown",
   "id": "31ae444a",
   "metadata": {},
   "source": [
    "---"
   ]
  },
  {
   "cell_type": "markdown",
   "id": "e0717e9b",
   "metadata": {},
   "source": [
    "### OLD"
   ]
  },
  {
   "cell_type": "markdown",
   "id": "c11515ee",
   "metadata": {},
   "source": [
    "load valuation allowance data"
   ]
  },
  {
   "cell_type": "code",
   "execution_count": 261,
   "id": "813b0186",
   "metadata": {
    "scrolled": true
   },
   "outputs": [],
   "source": [
    "df = pd.read_csv(os.path.join(os.getcwd(), '3_pipeline', '1_intermediate', 'sample_meta_intermediate.tsv'),\n",
    "                 sep = '\\t')"
   ]
  },
  {
   "cell_type": "markdown",
   "id": "c4431592",
   "metadata": {},
   "source": [
    "load historic Compustat headers, and replace with most recent header if historic is missing"
   ]
  },
  {
   "cell_type": "code",
   "execution_count": 262,
   "id": "bb1c1d1c",
   "metadata": {},
   "outputs": [],
   "source": [
    "comphist = pd.read_csv(os.path.join(os.getcwd(), '3_pipeline', '1_intermediate', 'comphist_prepared.tsv'),\n",
    "                       sep = '\\t')"
   ]
  },
  {
   "cell_type": "code",
   "execution_count": 263,
   "id": "d8c8f708",
   "metadata": {},
   "outputs": [],
   "source": [
    "comp_header = pd.read_csv(os.path.join(os.getcwd(), '3_pipeline', '1_intermediate', 'compustat_header.tsv'),\n",
    "                          sep = '\\t')\n",
    "comp_header = comp_header.drop(columns = 'loc')"
   ]
  },
  {
   "cell_type": "code",
   "execution_count": 264,
   "id": "4d07895a",
   "metadata": {},
   "outputs": [],
   "source": [
    "comphist = comphist.merge(right = comp_header, how = 'left', on = 'gvkey')"
   ]
  },
  {
   "cell_type": "code",
   "execution_count": 265,
   "id": "5b07fb16",
   "metadata": {},
   "outputs": [],
   "source": [
    "comphist['hfic'] = comphist['hfic'].fillna(comphist['fic'])\n",
    "comphist['hsic'] = comphist['hsic'].fillna(comphist['sic'])\n",
    "comphist['hcik'] = comphist['hcik'].fillna(comphist['cik'])"
   ]
  },
  {
   "cell_type": "code",
   "execution_count": 266,
   "id": "1da96ecb",
   "metadata": {},
   "outputs": [],
   "source": [
    "comphist = comphist.drop(columns = ['sic', 'fic', 'cik'])"
   ]
  },
  {
   "cell_type": "code",
   "execution_count": 267,
   "id": "d5ad0bd1",
   "metadata": {},
   "outputs": [],
   "source": [
    "comphist = comphist.rename(columns = {'hfic' : 'fic',\n",
    "                                      'hsic' : 'sic',\n",
    "                                      'hcik' : 'cik'})"
   ]
  },
  {
   "cell_type": "code",
   "execution_count": 268,
   "id": "cebdc78e",
   "metadata": {},
   "outputs": [],
   "source": [
    "df = df.rename(columns = {'sic' : 'sic_from_sec'})"
   ]
  },
  {
   "cell_type": "code",
   "execution_count": 269,
   "id": "d84805d8",
   "metadata": {},
   "outputs": [],
   "source": [
    "df = df.merge(right = comphist, on = ['cik', 'fyear'], how = 'left')"
   ]
  },
  {
   "cell_type": "code",
   "execution_count": 270,
   "id": "06cba780",
   "metadata": {},
   "outputs": [],
   "source": [
    "# if company is missing on comphist, it would not be included\n",
    "# therefore: for the observations where an obsveration is missing in the header file\n",
    "# and therefore gvkey is N/A in df up until here,\n",
    "# use fic, sic and gvkey information from compustat header\n",
    "\n",
    "df = df.merge(right = comp_header.rename(columns = {'fic' : 'fic_header',\n",
    "                                                    'sic' : 'sic_header',\n",
    "                                                    'gvkey' : 'gvkey_header'}),\n",
    "              how = 'left', on = 'cik')"
   ]
  },
  {
   "cell_type": "code",
   "execution_count": 271,
   "id": "f116cf86",
   "metadata": {},
   "outputs": [],
   "source": [
    "df['fic'] = df['fic'].fillna(df['fic_header'])"
   ]
  },
  {
   "cell_type": "code",
   "execution_count": 272,
   "id": "51557bf5",
   "metadata": {},
   "outputs": [],
   "source": [
    "df['gvkey'] = df['gvkey'].fillna(df['gvkey_header'])"
   ]
  },
  {
   "cell_type": "code",
   "execution_count": 273,
   "id": "0225398c",
   "metadata": {
    "scrolled": true
   },
   "outputs": [],
   "source": [
    "df['sic'] = df['sic'].fillna(df['sic_header'])"
   ]
  },
  {
   "cell_type": "code",
   "execution_count": 274,
   "id": "ed639e87",
   "metadata": {},
   "outputs": [],
   "source": [
    "# if historic and header SIC is missing, take the SIC from the SEC\n",
    "df['sic'] = df['sic'].fillna(df['sic_from_sec'])"
   ]
  },
  {
   "cell_type": "markdown",
   "id": "e08a679e",
   "metadata": {},
   "source": [
    "add CRSP PERMNO (based on CCM)"
   ]
  },
  {
   "cell_type": "code",
   "execution_count": 275,
   "id": "8d023302",
   "metadata": {},
   "outputs": [],
   "source": [
    "ccm = pd.read_csv(os.path.join(os.getcwd(), '1_data', 'compustat_crsp_link.tsv'),\n",
    "                  sep = '\\t')"
   ]
  },
  {
   "cell_type": "code",
   "execution_count": 276,
   "id": "f0edb11e",
   "metadata": {},
   "outputs": [],
   "source": [
    "df = df.merge(right = ccm, on = ['gvkey', 'fyear'], how = 'left')"
   ]
  },
  {
   "cell_type": "code",
   "execution_count": 277,
   "id": "f3513ac5",
   "metadata": {},
   "outputs": [],
   "source": [
    "df = df.rename(columns = {'lpermno' : 'permno'})"
   ]
  },
  {
   "cell_type": "markdown",
   "id": "005ade51",
   "metadata": {},
   "source": [
    "add IBES ticker (based on CRSP-IBES link)"
   ]
  },
  {
   "cell_type": "code",
   "execution_count": 278,
   "id": "c798fc64",
   "metadata": {},
   "outputs": [],
   "source": [
    "ibes = pd.read_csv(os.path.join(os.getcwd(), '3_pipeline', '1_intermediate', 'crsp_ibes_link_final.tsv'),\n",
    "                   sep = '\\t')"
   ]
  },
  {
   "cell_type": "code",
   "execution_count": 279,
   "id": "16df47aa",
   "metadata": {},
   "outputs": [],
   "source": [
    "ibes = ibes.rename(columns = {'ticker' : 'ibes_ticker'})"
   ]
  },
  {
   "cell_type": "code",
   "execution_count": 280,
   "id": "b49790ec",
   "metadata": {},
   "outputs": [],
   "source": [
    "df = df.merge(right = ibes, on = ['permno', 'fyear'], how = 'left')"
   ]
  },
  {
   "cell_type": "markdown",
   "id": "d582583a",
   "metadata": {},
   "source": [
    "drop if gvkey missing"
   ]
  },
  {
   "cell_type": "code",
   "execution_count": 281,
   "id": "123134da",
   "metadata": {},
   "outputs": [],
   "source": [
    "df = df.loc[df['gvkey'].notna()]"
   ]
  },
  {
   "cell_type": "code",
   "execution_count": 282,
   "id": "a1e220e6",
   "metadata": {},
   "outputs": [],
   "source": [
    "df = df.sort_values(by = ['gvkey', 'fyear'])"
   ]
  },
  {
   "cell_type": "markdown",
   "id": "7e4d6e04",
   "metadata": {},
   "source": [
    "drop remaining duplicates"
   ]
  },
  {
   "cell_type": "code",
   "execution_count": 283,
   "id": "7eb8342f",
   "metadata": {},
   "outputs": [],
   "source": [
    "df = df.drop_duplicates(subset = ['gvkey', 'fyear'], keep = False)"
   ]
  },
  {
   "cell_type": "markdown",
   "id": "b6099aba",
   "metadata": {},
   "source": [
    "reorder columns"
   ]
  },
  {
   "cell_type": "code",
   "execution_count": 284,
   "id": "f1d37de2",
   "metadata": {},
   "outputs": [],
   "source": [
    "df = df[['gvkey', 'fyear'] + [c for c in list(df.columns) if c not in ['gvkey', 'fyear']]]"
   ]
  },
  {
   "cell_type": "code",
   "execution_count": 287,
   "id": "7458655c",
   "metadata": {},
   "outputs": [],
   "source": [
    "not_existing = df.loc[~df['gvkey'].isin(test['gvkey'])]"
   ]
  },
  {
   "cell_type": "code",
   "execution_count": 129,
   "id": "07ebcbdd",
   "metadata": {},
   "outputs": [],
   "source": [
    "df.to_csv(os.path.join(os.getcwd(), '3_pipeline', '1_intermediate', 'sample_meta_final.tsv'),\n",
    "          sep = '\\t',\n",
    "          index = False)"
   ]
  }
 ],
 "metadata": {
  "kernelspec": {
   "display_name": "Python 3 (ipykernel)",
   "language": "python",
   "name": "python3"
  },
  "language_info": {
   "codemirror_mode": {
    "name": "ipython",
    "version": 3
   },
   "file_extension": ".py",
   "mimetype": "text/x-python",
   "name": "python",
   "nbconvert_exporter": "python",
   "pygments_lexer": "ipython3",
   "version": "3.11.5"
  }
 },
 "nbformat": 4,
 "nbformat_minor": 5
}
